{
 "cells": [
  {
   "cell_type": "markdown",
   "id": "227979a7",
   "metadata": {},
   "source": [
    "### 1. pandas: data pre-processing\n",
    "### 2. numpy: data pre-processing\n",
    "### 3. seaborn: data visualization\n",
    "### 4. matplotlib: data visualization\n",
    "### 5. scikit-learn: machine learning model\n",
    "### 6. keras: deep learning model <==> tensorflow\n",
    "### 7. openpyxl: support opening excel file"
   ]
  },
  {
   "cell_type": "code",
   "execution_count": 1,
   "id": "f7dfba48",
   "metadata": {},
   "outputs": [],
   "source": [
    "import os\n",
    "\n",
    "import pandas as pd\n",
    "import numpy as np\n",
    "import seaborn as sns\n",
    "import matplotlib.pyplot as plt\n",
    "\n",
    "from sklearn.linear_model import LogisticRegression\n",
    "from sklearn.svm import SVC\n",
    "from sklearn.metrics import classification_report\n",
    "\n",
    "from keras.layers import Dense\n",
    "from keras.optimizers import SGD\n",
    "from keras.models import Sequential\n",
    "from keras.losses import BinaryCrossentropy, CategoricalCrossentropy\n",
    "from keras.callbacks import ModelCheckpoint, ReduceLROnPlateau"
   ]
  },
  {
   "cell_type": "markdown",
   "id": "78f6c70a",
   "metadata": {},
   "source": [
    "# 1. PREPARE DATA"
   ]
  },
  {
   "cell_type": "markdown",
   "id": "b07c0004",
   "metadata": {},
   "source": [
    "## 1.1. Read data"
   ]
  },
  {
   "cell_type": "code",
   "execution_count": 2,
   "id": "8d11df0c",
   "metadata": {
    "scrolled": false
   },
   "outputs": [
    {
     "data": {
      "text/html": [
       "<div>\n",
       "<style scoped>\n",
       "    .dataframe tbody tr th:only-of-type {\n",
       "        vertical-align: middle;\n",
       "    }\n",
       "\n",
       "    .dataframe tbody tr th {\n",
       "        vertical-align: top;\n",
       "    }\n",
       "\n",
       "    .dataframe thead th {\n",
       "        text-align: right;\n",
       "    }\n",
       "</style>\n",
       "<table border=\"1\" class=\"dataframe\">\n",
       "  <thead>\n",
       "    <tr style=\"text-align: right;\">\n",
       "      <th></th>\n",
       "      <th>ID</th>\n",
       "      <th>Step</th>\n",
       "      <th>A</th>\n",
       "      <th>B</th>\n",
       "      <th>C</th>\n",
       "      <th>D</th>\n",
       "      <th>E</th>\n",
       "    </tr>\n",
       "  </thead>\n",
       "  <tbody>\n",
       "    <tr>\n",
       "      <th>0</th>\n",
       "      <td>7143PLGJH1SS2D097SS2D0</td>\n",
       "      <td>0</td>\n",
       "      <td>0.588352</td>\n",
       "      <td>0.564350</td>\n",
       "      <td>0.546382</td>\n",
       "      <td>0.533616</td>\n",
       "      <td>0.413290</td>\n",
       "    </tr>\n",
       "    <tr>\n",
       "      <th>1</th>\n",
       "      <td>7143PLGJH1SS2D097SS2D0</td>\n",
       "      <td>0</td>\n",
       "      <td>0.050891</td>\n",
       "      <td>0.042886</td>\n",
       "      <td>0.053276</td>\n",
       "      <td>0.034690</td>\n",
       "      <td>0.024467</td>\n",
       "    </tr>\n",
       "    <tr>\n",
       "      <th>2</th>\n",
       "      <td>7143PLGJH1SS2D097SS2D0</td>\n",
       "      <td>1</td>\n",
       "      <td>0.056249</td>\n",
       "      <td>0.047645</td>\n",
       "      <td>0.055940</td>\n",
       "      <td>0.039808</td>\n",
       "      <td>0.024974</td>\n",
       "    </tr>\n",
       "    <tr>\n",
       "      <th>3</th>\n",
       "      <td>7143PLGJH1SS2D097SS2D0</td>\n",
       "      <td>2</td>\n",
       "      <td>0.057846</td>\n",
       "      <td>0.048524</td>\n",
       "      <td>0.056475</td>\n",
       "      <td>0.040798</td>\n",
       "      <td>0.025394</td>\n",
       "    </tr>\n",
       "    <tr>\n",
       "      <th>4</th>\n",
       "      <td>7143PLGJH1SS2D097SS2D0</td>\n",
       "      <td>3</td>\n",
       "      <td>0.045904</td>\n",
       "      <td>0.026095</td>\n",
       "      <td>0.054595</td>\n",
       "      <td>0.056979</td>\n",
       "      <td>0.036955</td>\n",
       "    </tr>\n",
       "    <tr>\n",
       "      <th>...</th>\n",
       "      <td>...</td>\n",
       "      <td>...</td>\n",
       "      <td>...</td>\n",
       "      <td>...</td>\n",
       "      <td>...</td>\n",
       "      <td>...</td>\n",
       "      <td>...</td>\n",
       "    </tr>\n",
       "    <tr>\n",
       "      <th>3800</th>\n",
       "      <td>344125EJH4SS7D103SS7D1</td>\n",
       "      <td>8</td>\n",
       "      <td>0.385173</td>\n",
       "      <td>0.344588</td>\n",
       "      <td>0.369460</td>\n",
       "      <td>0.341547</td>\n",
       "      <td>0.360278</td>\n",
       "    </tr>\n",
       "    <tr>\n",
       "      <th>3801</th>\n",
       "      <td>344125EJH4SS7D103SS7D1</td>\n",
       "      <td>9</td>\n",
       "      <td>0.303972</td>\n",
       "      <td>0.290504</td>\n",
       "      <td>0.344147</td>\n",
       "      <td>0.283809</td>\n",
       "      <td>0.350768</td>\n",
       "    </tr>\n",
       "    <tr>\n",
       "      <th>3802</th>\n",
       "      <td>344125EJH4SS7D103SS7D1</td>\n",
       "      <td>10</td>\n",
       "      <td>0.271701</td>\n",
       "      <td>0.226380</td>\n",
       "      <td>0.301759</td>\n",
       "      <td>0.227052</td>\n",
       "      <td>0.332305</td>\n",
       "    </tr>\n",
       "    <tr>\n",
       "      <th>3803</th>\n",
       "      <td>344125EJH4SS7D103SS7D1</td>\n",
       "      <td>11</td>\n",
       "      <td>0.221545</td>\n",
       "      <td>0.178121</td>\n",
       "      <td>0.261385</td>\n",
       "      <td>0.180707</td>\n",
       "      <td>0.298866</td>\n",
       "    </tr>\n",
       "    <tr>\n",
       "      <th>3804</th>\n",
       "      <td>344125EJH4SS7D103SS7D1</td>\n",
       "      <td>12</td>\n",
       "      <td>0.141187</td>\n",
       "      <td>0.114502</td>\n",
       "      <td>0.191630</td>\n",
       "      <td>0.116598</td>\n",
       "      <td>0.240018</td>\n",
       "    </tr>\n",
       "  </tbody>\n",
       "</table>\n",
       "<p>3805 rows × 7 columns</p>\n",
       "</div>"
      ],
      "text/plain": [
       "                          ID  Step         A         B         C         D  \\\n",
       "0     7143PLGJH1SS2D097SS2D0     0  0.588352  0.564350  0.546382  0.533616   \n",
       "1     7143PLGJH1SS2D097SS2D0     0  0.050891  0.042886  0.053276  0.034690   \n",
       "2     7143PLGJH1SS2D097SS2D0     1  0.056249  0.047645  0.055940  0.039808   \n",
       "3     7143PLGJH1SS2D097SS2D0     2  0.057846  0.048524  0.056475  0.040798   \n",
       "4     7143PLGJH1SS2D097SS2D0     3  0.045904  0.026095  0.054595  0.056979   \n",
       "...                      ...   ...       ...       ...       ...       ...   \n",
       "3800  344125EJH4SS7D103SS7D1     8  0.385173  0.344588  0.369460  0.341547   \n",
       "3801  344125EJH4SS7D103SS7D1     9  0.303972  0.290504  0.344147  0.283809   \n",
       "3802  344125EJH4SS7D103SS7D1    10  0.271701  0.226380  0.301759  0.227052   \n",
       "3803  344125EJH4SS7D103SS7D1    11  0.221545  0.178121  0.261385  0.180707   \n",
       "3804  344125EJH4SS7D103SS7D1    12  0.141187  0.114502  0.191630  0.116598   \n",
       "\n",
       "             E  \n",
       "0     0.413290  \n",
       "1     0.024467  \n",
       "2     0.024974  \n",
       "3     0.025394  \n",
       "4     0.036955  \n",
       "...        ...  \n",
       "3800  0.360278  \n",
       "3801  0.350768  \n",
       "3802  0.332305  \n",
       "3803  0.298866  \n",
       "3804  0.240018  \n",
       "\n",
       "[3805 rows x 7 columns]"
      ]
     },
     "execution_count": 2,
     "metadata": {},
     "output_type": "execute_result"
    }
   ],
   "source": [
    "data_df = pd.read_excel(\n",
    "    'data/lg_innotek/ok_ng_data.xlsx',\n",
    "    engine='openpyxl',\n",
    "    sheet_name=0\n",
    ")\n",
    "data_df = data_df.rename(columns={'Unnamed: 0': 'ID'})\n",
    "data_df"
   ]
  },
  {
   "cell_type": "code",
   "execution_count": 3,
   "id": "da856084",
   "metadata": {},
   "outputs": [
    {
     "data": {
      "text/html": [
       "<div>\n",
       "<style scoped>\n",
       "    .dataframe tbody tr th:only-of-type {\n",
       "        vertical-align: middle;\n",
       "    }\n",
       "\n",
       "    .dataframe tbody tr th {\n",
       "        vertical-align: top;\n",
       "    }\n",
       "\n",
       "    .dataframe thead th {\n",
       "        text-align: right;\n",
       "    }\n",
       "</style>\n",
       "<table border=\"1\" class=\"dataframe\">\n",
       "  <thead>\n",
       "    <tr style=\"text-align: right;\">\n",
       "      <th></th>\n",
       "      <th>ID</th>\n",
       "      <th>Label</th>\n",
       "      <th>Remark</th>\n",
       "    </tr>\n",
       "  </thead>\n",
       "  <tbody>\n",
       "    <tr>\n",
       "      <th>0</th>\n",
       "      <td>7143PLGJH1SS2D097SS2D0</td>\n",
       "      <td>NG</td>\n",
       "      <td>NaN</td>\n",
       "    </tr>\n",
       "    <tr>\n",
       "      <th>1</th>\n",
       "      <td>70D3M9GHH1SS2D097SS2D0</td>\n",
       "      <td>NG</td>\n",
       "      <td>Type 2</td>\n",
       "    </tr>\n",
       "    <tr>\n",
       "      <th>2</th>\n",
       "      <td>70F3NFGHH1SS2D097SS2D0</td>\n",
       "      <td>NG</td>\n",
       "      <td>Type 2</td>\n",
       "    </tr>\n",
       "    <tr>\n",
       "      <th>3</th>\n",
       "      <td>70E402GGH1SS2D097SS2D0</td>\n",
       "      <td>NG</td>\n",
       "      <td>Type 2</td>\n",
       "    </tr>\n",
       "    <tr>\n",
       "      <th>4</th>\n",
       "      <td>714407GKH1SS2D097SS2D0</td>\n",
       "      <td>NG</td>\n",
       "      <td>Type 2</td>\n",
       "    </tr>\n",
       "    <tr>\n",
       "      <th>...</th>\n",
       "      <td>...</td>\n",
       "      <td>...</td>\n",
       "      <td>...</td>\n",
       "    </tr>\n",
       "    <tr>\n",
       "      <th>199</th>\n",
       "      <td>34411CEJH4SS7D103SS7D1</td>\n",
       "      <td>OK</td>\n",
       "      <td>NaN</td>\n",
       "    </tr>\n",
       "    <tr>\n",
       "      <th>200</th>\n",
       "      <td>34311BEMH4SS7D103SS7D1</td>\n",
       "      <td>OK</td>\n",
       "      <td>NaN</td>\n",
       "    </tr>\n",
       "    <tr>\n",
       "      <th>201</th>\n",
       "      <td>345113EMH4SS7D103SS7D1</td>\n",
       "      <td>OK</td>\n",
       "      <td>NaN</td>\n",
       "    </tr>\n",
       "    <tr>\n",
       "      <th>202</th>\n",
       "      <td>345110EKH4SS7D103SS7D1</td>\n",
       "      <td>OK</td>\n",
       "      <td>NaN</td>\n",
       "    </tr>\n",
       "    <tr>\n",
       "      <th>203</th>\n",
       "      <td>344125EJH4SS7D103SS7D1</td>\n",
       "      <td>OK</td>\n",
       "      <td>NaN</td>\n",
       "    </tr>\n",
       "  </tbody>\n",
       "</table>\n",
       "<p>204 rows × 3 columns</p>\n",
       "</div>"
      ],
      "text/plain": [
       "                         ID Label  Remark\n",
       "0    7143PLGJH1SS2D097SS2D0    NG     NaN\n",
       "1    70D3M9GHH1SS2D097SS2D0    NG  Type 2\n",
       "2    70F3NFGHH1SS2D097SS2D0    NG  Type 2\n",
       "3    70E402GGH1SS2D097SS2D0    NG  Type 2\n",
       "4    714407GKH1SS2D097SS2D0    NG  Type 2\n",
       "..                      ...   ...     ...\n",
       "199  34411CEJH4SS7D103SS7D1    OK     NaN\n",
       "200  34311BEMH4SS7D103SS7D1    OK     NaN\n",
       "201  345113EMH4SS7D103SS7D1    OK     NaN\n",
       "202  345110EKH4SS7D103SS7D1    OK     NaN\n",
       "203  344125EJH4SS7D103SS7D1    OK     NaN\n",
       "\n",
       "[204 rows x 3 columns]"
      ]
     },
     "execution_count": 3,
     "metadata": {},
     "output_type": "execute_result"
    }
   ],
   "source": [
    "label_df = pd.read_excel(\n",
    "    'data/lg_innotek/ok_ng_data.xlsx',\n",
    "    engine='openpyxl',\n",
    "    sheet_name=1\n",
    ")\n",
    "label_df"
   ]
  },
  {
   "cell_type": "markdown",
   "id": "245b9b58",
   "metadata": {},
   "source": [
    "## 1.2. Prepare feature"
   ]
  },
  {
   "cell_type": "code",
   "execution_count": 4,
   "id": "6d637395",
   "metadata": {},
   "outputs": [
    {
     "data": {
      "text/html": [
       "<div>\n",
       "<style scoped>\n",
       "    .dataframe tbody tr th:only-of-type {\n",
       "        vertical-align: middle;\n",
       "    }\n",
       "\n",
       "    .dataframe tbody tr th {\n",
       "        vertical-align: top;\n",
       "    }\n",
       "\n",
       "    .dataframe thead th {\n",
       "        text-align: right;\n",
       "    }\n",
       "</style>\n",
       "<table border=\"1\" class=\"dataframe\">\n",
       "  <thead>\n",
       "    <tr style=\"text-align: right;\">\n",
       "      <th></th>\n",
       "      <th>ID</th>\n",
       "      <th>Step</th>\n",
       "      <th>A</th>\n",
       "      <th>B</th>\n",
       "      <th>C</th>\n",
       "      <th>D</th>\n",
       "      <th>E</th>\n",
       "    </tr>\n",
       "  </thead>\n",
       "  <tbody>\n",
       "    <tr>\n",
       "      <th>0</th>\n",
       "      <td>34311BEMH4SS7D103SS7D1</td>\n",
       "      <td>[0, 0, 1, 2, 3, 4, 5, 6, 7, 8, 9, 10, 11]</td>\n",
       "      <td>[0.018876, 0.058013, 0.089152, 0.068431, 0.142...</td>\n",
       "      <td>[0.020959, 0.07472, 0.084353, 0.023753, 0.1717...</td>\n",
       "      <td>[0.013274, 0.05426, 0.066072, 0.061802, 0.1241...</td>\n",
       "      <td>[0.012564, 0.033984, 0.077574, 0.060829, 0.095...</td>\n",
       "      <td>[0.015833, 0.027841, 0.043242, 0.068583, 0.090...</td>\n",
       "    </tr>\n",
       "    <tr>\n",
       "      <th>1</th>\n",
       "      <td>34311JEKH4SS7D103SS7D1</td>\n",
       "      <td>[0, 0, 1, 2, 3, 4, 5, 6, 7, 8, 9, 10]</td>\n",
       "      <td>[0.028912, 0.058278, 0.091492, 0.066836, 0.156...</td>\n",
       "      <td>[0.052218, 0.083234, 0.079813, 0.050558, 0.185...</td>\n",
       "      <td>[0.01822, 0.051073, 0.070115, 0.056665, 0.1104...</td>\n",
       "      <td>[0.025158, 0.052283, 0.078907, 0.048965, 0.129...</td>\n",
       "      <td>[0.012249, 0.032187, 0.07584, 0.065415, 0.0709...</td>\n",
       "    </tr>\n",
       "    <tr>\n",
       "      <th>2</th>\n",
       "      <td>34312BELH4SS7D103SS7D1</td>\n",
       "      <td>[0, 0, 1, 2, 3, 4, 5, 6, 7, 8, 9, 10]</td>\n",
       "      <td>[0.034515, 0.058238, 0.045573, 0.103853, 0.244...</td>\n",
       "      <td>[0.019565, 0.050983, 0.017371, 0.140461, 0.299...</td>\n",
       "      <td>[0.02526, 0.066125, 0.048891, 0.074358, 0.2160...</td>\n",
       "      <td>[0.01465, 0.050217, 0.038474, 0.118546, 0.2559...</td>\n",
       "      <td>[0.023303, 0.046745, 0.052232, 0.064218, 0.162...</td>\n",
       "    </tr>\n",
       "    <tr>\n",
       "      <th>3</th>\n",
       "      <td>34312CEMH4SS7D103SS7D1</td>\n",
       "      <td>[0, 0, 1, 2, 3, 4, 5, 6, 7, 8]</td>\n",
       "      <td>[0.033997, 0.058677, 0.072719, 0.176351, 0.327...</td>\n",
       "      <td>[0.035283, 0.06126, 0.025285, 0.139149, 0.3010...</td>\n",
       "      <td>[0.027487, 0.055639, 0.077554, 0.159784, 0.268...</td>\n",
       "      <td>[0.035839, 0.064169, 0.059074, 0.158542, 0.321...</td>\n",
       "      <td>[0.024741, 0.051568, 0.101791, 0.187416, 0.305...</td>\n",
       "    </tr>\n",
       "    <tr>\n",
       "      <th>4</th>\n",
       "      <td>34312FEKH4SS7D103SS7D1</td>\n",
       "      <td>[0, 0, 1, 2, 3, 4, 5, 6, 7, 8, 9, 10, 11]</td>\n",
       "      <td>[0.048112, 0.07916, 0.080094, 0.054201, 0.1936...</td>\n",
       "      <td>[0.03822, 0.070557, 0.066806, 0.032868, 0.1943...</td>\n",
       "      <td>[0.031319, 0.074344, 0.076803, 0.059709, 0.153...</td>\n",
       "      <td>[0.029055, 0.058664, 0.086159, 0.039429, 0.112...</td>\n",
       "      <td>[0.030228, 0.05369, 0.067952, 0.043953, 0.1122...</td>\n",
       "    </tr>\n",
       "    <tr>\n",
       "      <th>...</th>\n",
       "      <td>...</td>\n",
       "      <td>...</td>\n",
       "      <td>...</td>\n",
       "      <td>...</td>\n",
       "      <td>...</td>\n",
       "      <td>...</td>\n",
       "      <td>...</td>\n",
       "    </tr>\n",
       "    <tr>\n",
       "      <th>202</th>\n",
       "      <td>75A3LFEMH4SSAD097SSAD0</td>\n",
       "      <td>[0, 0, 1, 2, 3, 4, 5, 6, 7, 8, 9, 10, 11, 12]</td>\n",
       "      <td>[0.077545, 0.085346, 0.087338, 0.087534, 0.052...</td>\n",
       "      <td>[0.151455, 0.060518, 0.055163, 0.057854, 0.037...</td>\n",
       "      <td>[0.123937, 0.064376, 0.065338, 0.066669, 0.035...</td>\n",
       "      <td>[0.10284, 0.075793, 0.079067, 0.082572, 0.0489...</td>\n",
       "      <td>[0.09983, 0.076387, 0.074205, 0.067191, 0.0405...</td>\n",
       "    </tr>\n",
       "    <tr>\n",
       "      <th>203</th>\n",
       "      <td>75A3M0ELH4SSAD097SSAD0</td>\n",
       "      <td>[0, 0, 1, 2, 3, 4, 5, 6, 7, 8, 9, 10, 11, 12, 13]</td>\n",
       "      <td>[0.068732, 0.044057, 0.044852, 0.05198, 0.0572...</td>\n",
       "      <td>[0.042007, 0.0658, 0.062798, 0.059485, 0.05792...</td>\n",
       "      <td>[0.04235, 0.029421, 0.034642, 0.033375, 0.0302...</td>\n",
       "      <td>[0.04102, 0.059365, 0.063467, 0.060262, 0.0663...</td>\n",
       "      <td>[0.067956, 0.032593, 0.030283, 0.029825, 0.038...</td>\n",
       "    </tr>\n",
       "    <tr>\n",
       "      <th>204</th>\n",
       "      <td>75A3M8EJH4SSAD097SSAD0</td>\n",
       "      <td>[0, 0, 1, 2, 3, 4, 5, 6, 7, 8, 9, 10, 11, 12]</td>\n",
       "      <td>[0.075911, 0.087448, 0.079928, 0.076893, 0.045...</td>\n",
       "      <td>[0.062392, 0.051936, 0.049361, 0.044433, 0.034...</td>\n",
       "      <td>[0.050325, 0.05881, 0.067336, 0.070062, 0.0642...</td>\n",
       "      <td>[0.066195, 0.037249, 0.036933, 0.038226, 0.058...</td>\n",
       "      <td>[0.058008, 0.073301, 0.078608, 0.078484, 0.052...</td>\n",
       "    </tr>\n",
       "    <tr>\n",
       "      <th>205</th>\n",
       "      <td>75A3MNELH4SSAD097SSAD0</td>\n",
       "      <td>[0, 0, 1, 2, 3, 4, 5, 6, 7, 8, 9, 10, 11, 12]</td>\n",
       "      <td>[0.049516, 0.075042, 0.074886, 0.077547, 0.059...</td>\n",
       "      <td>[0.055373, 0.064519, 0.060896, 0.059829, 0.042...</td>\n",
       "      <td>[0.044855, 0.058113, 0.06035, 0.057738, 0.0517...</td>\n",
       "      <td>[0.051251, 0.057977, 0.060058, 0.048128, 0.046...</td>\n",
       "      <td>[0.044419, 0.061807, 0.06691, 0.063838, 0.0432...</td>\n",
       "    </tr>\n",
       "    <tr>\n",
       "      <th>206</th>\n",
       "      <td>75A3N1ELH4SSAD097SSAD0</td>\n",
       "      <td>[0, 0, 1, 2, 3, 4, 5, 6, 7, 8, 9, 10, 11, 12]</td>\n",
       "      <td>[0.048893, 0.067376, 0.072774, 0.069312, 0.080...</td>\n",
       "      <td>[0.091378, 0.053848, 0.055992, 0.056545, 0.038...</td>\n",
       "      <td>[0.048494, 0.058273, 0.064624, 0.057889, 0.067...</td>\n",
       "      <td>[0.137308, 0.074204, 0.072912, 0.069894, 0.044...</td>\n",
       "      <td>[0.058023, 0.066691, 0.067255, 0.069861, 0.061...</td>\n",
       "    </tr>\n",
       "  </tbody>\n",
       "</table>\n",
       "<p>207 rows × 7 columns</p>\n",
       "</div>"
      ],
      "text/plain": [
       "                         ID  \\\n",
       "0    34311BEMH4SS7D103SS7D1   \n",
       "1    34311JEKH4SS7D103SS7D1   \n",
       "2    34312BELH4SS7D103SS7D1   \n",
       "3    34312CEMH4SS7D103SS7D1   \n",
       "4    34312FEKH4SS7D103SS7D1   \n",
       "..                      ...   \n",
       "202  75A3LFEMH4SSAD097SSAD0   \n",
       "203  75A3M0ELH4SSAD097SSAD0   \n",
       "204  75A3M8EJH4SSAD097SSAD0   \n",
       "205  75A3MNELH4SSAD097SSAD0   \n",
       "206  75A3N1ELH4SSAD097SSAD0   \n",
       "\n",
       "                                                  Step  \\\n",
       "0            [0, 0, 1, 2, 3, 4, 5, 6, 7, 8, 9, 10, 11]   \n",
       "1                [0, 0, 1, 2, 3, 4, 5, 6, 7, 8, 9, 10]   \n",
       "2                [0, 0, 1, 2, 3, 4, 5, 6, 7, 8, 9, 10]   \n",
       "3                       [0, 0, 1, 2, 3, 4, 5, 6, 7, 8]   \n",
       "4            [0, 0, 1, 2, 3, 4, 5, 6, 7, 8, 9, 10, 11]   \n",
       "..                                                 ...   \n",
       "202      [0, 0, 1, 2, 3, 4, 5, 6, 7, 8, 9, 10, 11, 12]   \n",
       "203  [0, 0, 1, 2, 3, 4, 5, 6, 7, 8, 9, 10, 11, 12, 13]   \n",
       "204      [0, 0, 1, 2, 3, 4, 5, 6, 7, 8, 9, 10, 11, 12]   \n",
       "205      [0, 0, 1, 2, 3, 4, 5, 6, 7, 8, 9, 10, 11, 12]   \n",
       "206      [0, 0, 1, 2, 3, 4, 5, 6, 7, 8, 9, 10, 11, 12]   \n",
       "\n",
       "                                                     A  \\\n",
       "0    [0.018876, 0.058013, 0.089152, 0.068431, 0.142...   \n",
       "1    [0.028912, 0.058278, 0.091492, 0.066836, 0.156...   \n",
       "2    [0.034515, 0.058238, 0.045573, 0.103853, 0.244...   \n",
       "3    [0.033997, 0.058677, 0.072719, 0.176351, 0.327...   \n",
       "4    [0.048112, 0.07916, 0.080094, 0.054201, 0.1936...   \n",
       "..                                                 ...   \n",
       "202  [0.077545, 0.085346, 0.087338, 0.087534, 0.052...   \n",
       "203  [0.068732, 0.044057, 0.044852, 0.05198, 0.0572...   \n",
       "204  [0.075911, 0.087448, 0.079928, 0.076893, 0.045...   \n",
       "205  [0.049516, 0.075042, 0.074886, 0.077547, 0.059...   \n",
       "206  [0.048893, 0.067376, 0.072774, 0.069312, 0.080...   \n",
       "\n",
       "                                                     B  \\\n",
       "0    [0.020959, 0.07472, 0.084353, 0.023753, 0.1717...   \n",
       "1    [0.052218, 0.083234, 0.079813, 0.050558, 0.185...   \n",
       "2    [0.019565, 0.050983, 0.017371, 0.140461, 0.299...   \n",
       "3    [0.035283, 0.06126, 0.025285, 0.139149, 0.3010...   \n",
       "4    [0.03822, 0.070557, 0.066806, 0.032868, 0.1943...   \n",
       "..                                                 ...   \n",
       "202  [0.151455, 0.060518, 0.055163, 0.057854, 0.037...   \n",
       "203  [0.042007, 0.0658, 0.062798, 0.059485, 0.05792...   \n",
       "204  [0.062392, 0.051936, 0.049361, 0.044433, 0.034...   \n",
       "205  [0.055373, 0.064519, 0.060896, 0.059829, 0.042...   \n",
       "206  [0.091378, 0.053848, 0.055992, 0.056545, 0.038...   \n",
       "\n",
       "                                                     C  \\\n",
       "0    [0.013274, 0.05426, 0.066072, 0.061802, 0.1241...   \n",
       "1    [0.01822, 0.051073, 0.070115, 0.056665, 0.1104...   \n",
       "2    [0.02526, 0.066125, 0.048891, 0.074358, 0.2160...   \n",
       "3    [0.027487, 0.055639, 0.077554, 0.159784, 0.268...   \n",
       "4    [0.031319, 0.074344, 0.076803, 0.059709, 0.153...   \n",
       "..                                                 ...   \n",
       "202  [0.123937, 0.064376, 0.065338, 0.066669, 0.035...   \n",
       "203  [0.04235, 0.029421, 0.034642, 0.033375, 0.0302...   \n",
       "204  [0.050325, 0.05881, 0.067336, 0.070062, 0.0642...   \n",
       "205  [0.044855, 0.058113, 0.06035, 0.057738, 0.0517...   \n",
       "206  [0.048494, 0.058273, 0.064624, 0.057889, 0.067...   \n",
       "\n",
       "                                                     D  \\\n",
       "0    [0.012564, 0.033984, 0.077574, 0.060829, 0.095...   \n",
       "1    [0.025158, 0.052283, 0.078907, 0.048965, 0.129...   \n",
       "2    [0.01465, 0.050217, 0.038474, 0.118546, 0.2559...   \n",
       "3    [0.035839, 0.064169, 0.059074, 0.158542, 0.321...   \n",
       "4    [0.029055, 0.058664, 0.086159, 0.039429, 0.112...   \n",
       "..                                                 ...   \n",
       "202  [0.10284, 0.075793, 0.079067, 0.082572, 0.0489...   \n",
       "203  [0.04102, 0.059365, 0.063467, 0.060262, 0.0663...   \n",
       "204  [0.066195, 0.037249, 0.036933, 0.038226, 0.058...   \n",
       "205  [0.051251, 0.057977, 0.060058, 0.048128, 0.046...   \n",
       "206  [0.137308, 0.074204, 0.072912, 0.069894, 0.044...   \n",
       "\n",
       "                                                     E  \n",
       "0    [0.015833, 0.027841, 0.043242, 0.068583, 0.090...  \n",
       "1    [0.012249, 0.032187, 0.07584, 0.065415, 0.0709...  \n",
       "2    [0.023303, 0.046745, 0.052232, 0.064218, 0.162...  \n",
       "3    [0.024741, 0.051568, 0.101791, 0.187416, 0.305...  \n",
       "4    [0.030228, 0.05369, 0.067952, 0.043953, 0.1122...  \n",
       "..                                                 ...  \n",
       "202  [0.09983, 0.076387, 0.074205, 0.067191, 0.0405...  \n",
       "203  [0.067956, 0.032593, 0.030283, 0.029825, 0.038...  \n",
       "204  [0.058008, 0.073301, 0.078608, 0.078484, 0.052...  \n",
       "205  [0.044419, 0.061807, 0.06691, 0.063838, 0.0432...  \n",
       "206  [0.058023, 0.066691, 0.067255, 0.069861, 0.061...  \n",
       "\n",
       "[207 rows x 7 columns]"
      ]
     },
     "execution_count": 4,
     "metadata": {},
     "output_type": "execute_result"
    }
   ],
   "source": [
    "grouped_data_df = data_df.groupby(by='ID').agg(list).reset_index()\n",
    "grouped_data_df"
   ]
  },
  {
   "cell_type": "code",
   "execution_count": 5,
   "id": "4c1150b2",
   "metadata": {},
   "outputs": [
    {
     "data": {
      "text/html": [
       "<div>\n",
       "<style scoped>\n",
       "    .dataframe tbody tr th:only-of-type {\n",
       "        vertical-align: middle;\n",
       "    }\n",
       "\n",
       "    .dataframe tbody tr th {\n",
       "        vertical-align: top;\n",
       "    }\n",
       "\n",
       "    .dataframe thead th {\n",
       "        text-align: right;\n",
       "    }\n",
       "</style>\n",
       "<table border=\"1\" class=\"dataframe\">\n",
       "  <thead>\n",
       "    <tr style=\"text-align: right;\">\n",
       "      <th></th>\n",
       "      <th>ID</th>\n",
       "      <th>feature</th>\n",
       "      <th>len_feature</th>\n",
       "    </tr>\n",
       "  </thead>\n",
       "  <tbody>\n",
       "    <tr>\n",
       "      <th>0</th>\n",
       "      <td>34311BEMH4SS7D103SS7D1</td>\n",
       "      <td>[0.018876, 0.058013, 0.089152, 0.068431, 0.142...</td>\n",
       "      <td>65</td>\n",
       "    </tr>\n",
       "    <tr>\n",
       "      <th>1</th>\n",
       "      <td>34311JEKH4SS7D103SS7D1</td>\n",
       "      <td>[0.028912, 0.058278, 0.091492, 0.066836, 0.156...</td>\n",
       "      <td>60</td>\n",
       "    </tr>\n",
       "    <tr>\n",
       "      <th>2</th>\n",
       "      <td>34312BELH4SS7D103SS7D1</td>\n",
       "      <td>[0.034515, 0.058238, 0.045573, 0.103853, 0.244...</td>\n",
       "      <td>60</td>\n",
       "    </tr>\n",
       "    <tr>\n",
       "      <th>3</th>\n",
       "      <td>34312CEMH4SS7D103SS7D1</td>\n",
       "      <td>[0.033997, 0.058677, 0.072719, 0.176351, 0.327...</td>\n",
       "      <td>50</td>\n",
       "    </tr>\n",
       "    <tr>\n",
       "      <th>4</th>\n",
       "      <td>34312FEKH4SS7D103SS7D1</td>\n",
       "      <td>[0.048112, 0.07916, 0.080094, 0.054201, 0.1936...</td>\n",
       "      <td>65</td>\n",
       "    </tr>\n",
       "    <tr>\n",
       "      <th>...</th>\n",
       "      <td>...</td>\n",
       "      <td>...</td>\n",
       "      <td>...</td>\n",
       "    </tr>\n",
       "    <tr>\n",
       "      <th>202</th>\n",
       "      <td>75A3LFEMH4SSAD097SSAD0</td>\n",
       "      <td>[0.077545, 0.085346, 0.087338, 0.087534, 0.052...</td>\n",
       "      <td>70</td>\n",
       "    </tr>\n",
       "    <tr>\n",
       "      <th>203</th>\n",
       "      <td>75A3M0ELH4SSAD097SSAD0</td>\n",
       "      <td>[0.068732, 0.044057, 0.044852, 0.05198, 0.0572...</td>\n",
       "      <td>75</td>\n",
       "    </tr>\n",
       "    <tr>\n",
       "      <th>204</th>\n",
       "      <td>75A3M8EJH4SSAD097SSAD0</td>\n",
       "      <td>[0.075911, 0.087448, 0.079928, 0.076893, 0.045...</td>\n",
       "      <td>70</td>\n",
       "    </tr>\n",
       "    <tr>\n",
       "      <th>205</th>\n",
       "      <td>75A3MNELH4SSAD097SSAD0</td>\n",
       "      <td>[0.049516, 0.075042, 0.074886, 0.077547, 0.059...</td>\n",
       "      <td>70</td>\n",
       "    </tr>\n",
       "    <tr>\n",
       "      <th>206</th>\n",
       "      <td>75A3N1ELH4SSAD097SSAD0</td>\n",
       "      <td>[0.048893, 0.067376, 0.072774, 0.069312, 0.080...</td>\n",
       "      <td>70</td>\n",
       "    </tr>\n",
       "  </tbody>\n",
       "</table>\n",
       "<p>207 rows × 3 columns</p>\n",
       "</div>"
      ],
      "text/plain": [
       "                         ID  \\\n",
       "0    34311BEMH4SS7D103SS7D1   \n",
       "1    34311JEKH4SS7D103SS7D1   \n",
       "2    34312BELH4SS7D103SS7D1   \n",
       "3    34312CEMH4SS7D103SS7D1   \n",
       "4    34312FEKH4SS7D103SS7D1   \n",
       "..                      ...   \n",
       "202  75A3LFEMH4SSAD097SSAD0   \n",
       "203  75A3M0ELH4SSAD097SSAD0   \n",
       "204  75A3M8EJH4SSAD097SSAD0   \n",
       "205  75A3MNELH4SSAD097SSAD0   \n",
       "206  75A3N1ELH4SSAD097SSAD0   \n",
       "\n",
       "                                               feature  len_feature  \n",
       "0    [0.018876, 0.058013, 0.089152, 0.068431, 0.142...           65  \n",
       "1    [0.028912, 0.058278, 0.091492, 0.066836, 0.156...           60  \n",
       "2    [0.034515, 0.058238, 0.045573, 0.103853, 0.244...           60  \n",
       "3    [0.033997, 0.058677, 0.072719, 0.176351, 0.327...           50  \n",
       "4    [0.048112, 0.07916, 0.080094, 0.054201, 0.1936...           65  \n",
       "..                                                 ...          ...  \n",
       "202  [0.077545, 0.085346, 0.087338, 0.087534, 0.052...           70  \n",
       "203  [0.068732, 0.044057, 0.044852, 0.05198, 0.0572...           75  \n",
       "204  [0.075911, 0.087448, 0.079928, 0.076893, 0.045...           70  \n",
       "205  [0.049516, 0.075042, 0.074886, 0.077547, 0.059...           70  \n",
       "206  [0.048893, 0.067376, 0.072774, 0.069312, 0.080...           70  \n",
       "\n",
       "[207 rows x 3 columns]"
      ]
     },
     "execution_count": 5,
     "metadata": {},
     "output_type": "execute_result"
    }
   ],
   "source": [
    "grouped_data_df['feature'] = grouped_data_df[['A', 'B', 'C', 'D', 'E']].apply(\n",
    "    lambda all_features: [\n",
    "        step_value for feature in all_features for step_value in feature\n",
    "    ],\n",
    "    axis=1\n",
    ")\n",
    "grouped_data_df['len_feature'] = grouped_data_df.feature.apply(len)\n",
    "grouped_data_df = grouped_data_df.drop(\n",
    "    columns=['Step', 'A', 'B', 'C', 'D', 'E']\n",
    ")\n",
    "grouped_data_df"
   ]
  },
  {
   "cell_type": "code",
   "execution_count": 6,
   "id": "3b8dc592",
   "metadata": {},
   "outputs": [
    {
     "data": {
      "text/plain": [
       "175"
      ]
     },
     "execution_count": 6,
     "metadata": {},
     "output_type": "execute_result"
    }
   ],
   "source": [
    "max_len_feature = np.max(grouped_data_df.len_feature)\n",
    "max_len_feature"
   ]
  },
  {
   "cell_type": "code",
   "execution_count": 7,
   "id": "653da61c",
   "metadata": {},
   "outputs": [
    {
     "data": {
      "text/plain": [
       "65     33\n",
       "70     31\n",
       "95     20\n",
       "100    16\n",
       "60     15\n",
       "90     11\n",
       "105    10\n",
       "55      9\n",
       "110     8\n",
       "130     7\n",
       "125     6\n",
       "135     6\n",
       "145     5\n",
       "75      4\n",
       "150     4\n",
       "50      4\n",
       "120     3\n",
       "140     3\n",
       "165     3\n",
       "115     3\n",
       "175     2\n",
       "155     2\n",
       "160     2\n",
       "Name: len_feature, dtype: int64"
      ]
     },
     "execution_count": 7,
     "metadata": {},
     "output_type": "execute_result"
    }
   ],
   "source": [
    "grouped_data_df.len_feature.value_counts()"
   ]
  },
  {
   "cell_type": "code",
   "execution_count": 8,
   "id": "fe58356c",
   "metadata": {},
   "outputs": [
    {
     "data": {
      "text/html": [
       "<div>\n",
       "<style scoped>\n",
       "    .dataframe tbody tr th:only-of-type {\n",
       "        vertical-align: middle;\n",
       "    }\n",
       "\n",
       "    .dataframe tbody tr th {\n",
       "        vertical-align: top;\n",
       "    }\n",
       "\n",
       "    .dataframe thead th {\n",
       "        text-align: right;\n",
       "    }\n",
       "</style>\n",
       "<table border=\"1\" class=\"dataframe\">\n",
       "  <thead>\n",
       "    <tr style=\"text-align: right;\">\n",
       "      <th></th>\n",
       "      <th>ID</th>\n",
       "      <th>feature</th>\n",
       "      <th>len_feature</th>\n",
       "      <th>Label</th>\n",
       "      <th>Remark</th>\n",
       "    </tr>\n",
       "  </thead>\n",
       "  <tbody>\n",
       "    <tr>\n",
       "      <th>0</th>\n",
       "      <td>34311BEMH4SS7D103SS7D1</td>\n",
       "      <td>[0.018876, 0.058013, 0.089152, 0.068431, 0.142...</td>\n",
       "      <td>65</td>\n",
       "      <td>OK</td>\n",
       "      <td>NaN</td>\n",
       "    </tr>\n",
       "    <tr>\n",
       "      <th>1</th>\n",
       "      <td>34311JEKH4SS7D103SS7D1</td>\n",
       "      <td>[0.028912, 0.058278, 0.091492, 0.066836, 0.156...</td>\n",
       "      <td>60</td>\n",
       "      <td>OK</td>\n",
       "      <td>NaN</td>\n",
       "    </tr>\n",
       "    <tr>\n",
       "      <th>2</th>\n",
       "      <td>34312BELH4SS7D103SS7D1</td>\n",
       "      <td>[0.034515, 0.058238, 0.045573, 0.103853, 0.244...</td>\n",
       "      <td>60</td>\n",
       "      <td>OK</td>\n",
       "      <td>NaN</td>\n",
       "    </tr>\n",
       "    <tr>\n",
       "      <th>3</th>\n",
       "      <td>34312CEMH4SS7D103SS7D1</td>\n",
       "      <td>[0.033997, 0.058677, 0.072719, 0.176351, 0.327...</td>\n",
       "      <td>50</td>\n",
       "      <td>OK</td>\n",
       "      <td>NaN</td>\n",
       "    </tr>\n",
       "    <tr>\n",
       "      <th>4</th>\n",
       "      <td>34312FEKH4SS7D103SS7D1</td>\n",
       "      <td>[0.048112, 0.07916, 0.080094, 0.054201, 0.1936...</td>\n",
       "      <td>65</td>\n",
       "      <td>OK</td>\n",
       "      <td>NaN</td>\n",
       "    </tr>\n",
       "    <tr>\n",
       "      <th>...</th>\n",
       "      <td>...</td>\n",
       "      <td>...</td>\n",
       "      <td>...</td>\n",
       "      <td>...</td>\n",
       "      <td>...</td>\n",
       "    </tr>\n",
       "    <tr>\n",
       "      <th>199</th>\n",
       "      <td>75A3LFEMH4SSAD097SSAD0</td>\n",
       "      <td>[0.077545, 0.085346, 0.087338, 0.087534, 0.052...</td>\n",
       "      <td>70</td>\n",
       "      <td>OK</td>\n",
       "      <td>NaN</td>\n",
       "    </tr>\n",
       "    <tr>\n",
       "      <th>200</th>\n",
       "      <td>75A3M0ELH4SSAD097SSAD0</td>\n",
       "      <td>[0.068732, 0.044057, 0.044852, 0.05198, 0.0572...</td>\n",
       "      <td>75</td>\n",
       "      <td>OK</td>\n",
       "      <td>NaN</td>\n",
       "    </tr>\n",
       "    <tr>\n",
       "      <th>201</th>\n",
       "      <td>75A3M8EJH4SSAD097SSAD0</td>\n",
       "      <td>[0.075911, 0.087448, 0.079928, 0.076893, 0.045...</td>\n",
       "      <td>70</td>\n",
       "      <td>OK</td>\n",
       "      <td>NaN</td>\n",
       "    </tr>\n",
       "    <tr>\n",
       "      <th>202</th>\n",
       "      <td>75A3MNELH4SSAD097SSAD0</td>\n",
       "      <td>[0.049516, 0.075042, 0.074886, 0.077547, 0.059...</td>\n",
       "      <td>70</td>\n",
       "      <td>OK</td>\n",
       "      <td>NaN</td>\n",
       "    </tr>\n",
       "    <tr>\n",
       "      <th>203</th>\n",
       "      <td>75A3N1ELH4SSAD097SSAD0</td>\n",
       "      <td>[0.048893, 0.067376, 0.072774, 0.069312, 0.080...</td>\n",
       "      <td>70</td>\n",
       "      <td>OK</td>\n",
       "      <td>NaN</td>\n",
       "    </tr>\n",
       "  </tbody>\n",
       "</table>\n",
       "<p>204 rows × 5 columns</p>\n",
       "</div>"
      ],
      "text/plain": [
       "                         ID  \\\n",
       "0    34311BEMH4SS7D103SS7D1   \n",
       "1    34311JEKH4SS7D103SS7D1   \n",
       "2    34312BELH4SS7D103SS7D1   \n",
       "3    34312CEMH4SS7D103SS7D1   \n",
       "4    34312FEKH4SS7D103SS7D1   \n",
       "..                      ...   \n",
       "199  75A3LFEMH4SSAD097SSAD0   \n",
       "200  75A3M0ELH4SSAD097SSAD0   \n",
       "201  75A3M8EJH4SSAD097SSAD0   \n",
       "202  75A3MNELH4SSAD097SSAD0   \n",
       "203  75A3N1ELH4SSAD097SSAD0   \n",
       "\n",
       "                                               feature  len_feature Label  \\\n",
       "0    [0.018876, 0.058013, 0.089152, 0.068431, 0.142...           65    OK   \n",
       "1    [0.028912, 0.058278, 0.091492, 0.066836, 0.156...           60    OK   \n",
       "2    [0.034515, 0.058238, 0.045573, 0.103853, 0.244...           60    OK   \n",
       "3    [0.033997, 0.058677, 0.072719, 0.176351, 0.327...           50    OK   \n",
       "4    [0.048112, 0.07916, 0.080094, 0.054201, 0.1936...           65    OK   \n",
       "..                                                 ...          ...   ...   \n",
       "199  [0.077545, 0.085346, 0.087338, 0.087534, 0.052...           70    OK   \n",
       "200  [0.068732, 0.044057, 0.044852, 0.05198, 0.0572...           75    OK   \n",
       "201  [0.075911, 0.087448, 0.079928, 0.076893, 0.045...           70    OK   \n",
       "202  [0.049516, 0.075042, 0.074886, 0.077547, 0.059...           70    OK   \n",
       "203  [0.048893, 0.067376, 0.072774, 0.069312, 0.080...           70    OK   \n",
       "\n",
       "    Remark  \n",
       "0      NaN  \n",
       "1      NaN  \n",
       "2      NaN  \n",
       "3      NaN  \n",
       "4      NaN  \n",
       "..     ...  \n",
       "199    NaN  \n",
       "200    NaN  \n",
       "201    NaN  \n",
       "202    NaN  \n",
       "203    NaN  \n",
       "\n",
       "[204 rows x 5 columns]"
      ]
     },
     "execution_count": 8,
     "metadata": {},
     "output_type": "execute_result"
    }
   ],
   "source": [
    "df = pd.merge(grouped_data_df, label_df, how='inner', on='ID')\n",
    "df"
   ]
  },
  {
   "cell_type": "code",
   "execution_count": 9,
   "id": "6fef971e",
   "metadata": {},
   "outputs": [
    {
     "data": {
      "text/html": [
       "<div>\n",
       "<style scoped>\n",
       "    .dataframe tbody tr th:only-of-type {\n",
       "        vertical-align: middle;\n",
       "    }\n",
       "\n",
       "    .dataframe tbody tr th {\n",
       "        vertical-align: top;\n",
       "    }\n",
       "\n",
       "    .dataframe thead th {\n",
       "        text-align: right;\n",
       "    }\n",
       "</style>\n",
       "<table border=\"1\" class=\"dataframe\">\n",
       "  <thead>\n",
       "    <tr style=\"text-align: right;\">\n",
       "      <th></th>\n",
       "      <th>ID</th>\n",
       "      <th>feature</th>\n",
       "      <th>len_feature</th>\n",
       "      <th>Label</th>\n",
       "      <th>Remark</th>\n",
       "    </tr>\n",
       "  </thead>\n",
       "  <tbody>\n",
       "    <tr>\n",
       "      <th>0</th>\n",
       "      <td>34311BEMH4SS7D103SS7D1</td>\n",
       "      <td>[0.018876, 0.058013, 0.089152, 0.068431, 0.142...</td>\n",
       "      <td>175</td>\n",
       "      <td>OK</td>\n",
       "      <td>NaN</td>\n",
       "    </tr>\n",
       "    <tr>\n",
       "      <th>1</th>\n",
       "      <td>34311JEKH4SS7D103SS7D1</td>\n",
       "      <td>[0.028912, 0.058278, 0.091492, 0.066836, 0.156...</td>\n",
       "      <td>175</td>\n",
       "      <td>OK</td>\n",
       "      <td>NaN</td>\n",
       "    </tr>\n",
       "    <tr>\n",
       "      <th>2</th>\n",
       "      <td>34312BELH4SS7D103SS7D1</td>\n",
       "      <td>[0.034515, 0.058238, 0.045573, 0.103853, 0.244...</td>\n",
       "      <td>175</td>\n",
       "      <td>OK</td>\n",
       "      <td>NaN</td>\n",
       "    </tr>\n",
       "    <tr>\n",
       "      <th>3</th>\n",
       "      <td>34312CEMH4SS7D103SS7D1</td>\n",
       "      <td>[0.033997, 0.058677, 0.072719, 0.176351, 0.327...</td>\n",
       "      <td>175</td>\n",
       "      <td>OK</td>\n",
       "      <td>NaN</td>\n",
       "    </tr>\n",
       "    <tr>\n",
       "      <th>4</th>\n",
       "      <td>34312FEKH4SS7D103SS7D1</td>\n",
       "      <td>[0.048112, 0.07916, 0.080094, 0.054201, 0.1936...</td>\n",
       "      <td>175</td>\n",
       "      <td>OK</td>\n",
       "      <td>NaN</td>\n",
       "    </tr>\n",
       "    <tr>\n",
       "      <th>...</th>\n",
       "      <td>...</td>\n",
       "      <td>...</td>\n",
       "      <td>...</td>\n",
       "      <td>...</td>\n",
       "      <td>...</td>\n",
       "    </tr>\n",
       "    <tr>\n",
       "      <th>199</th>\n",
       "      <td>75A3LFEMH4SSAD097SSAD0</td>\n",
       "      <td>[0.077545, 0.085346, 0.087338, 0.087534, 0.052...</td>\n",
       "      <td>175</td>\n",
       "      <td>OK</td>\n",
       "      <td>NaN</td>\n",
       "    </tr>\n",
       "    <tr>\n",
       "      <th>200</th>\n",
       "      <td>75A3M0ELH4SSAD097SSAD0</td>\n",
       "      <td>[0.068732, 0.044057, 0.044852, 0.05198, 0.0572...</td>\n",
       "      <td>175</td>\n",
       "      <td>OK</td>\n",
       "      <td>NaN</td>\n",
       "    </tr>\n",
       "    <tr>\n",
       "      <th>201</th>\n",
       "      <td>75A3M8EJH4SSAD097SSAD0</td>\n",
       "      <td>[0.075911, 0.087448, 0.079928, 0.076893, 0.045...</td>\n",
       "      <td>175</td>\n",
       "      <td>OK</td>\n",
       "      <td>NaN</td>\n",
       "    </tr>\n",
       "    <tr>\n",
       "      <th>202</th>\n",
       "      <td>75A3MNELH4SSAD097SSAD0</td>\n",
       "      <td>[0.049516, 0.075042, 0.074886, 0.077547, 0.059...</td>\n",
       "      <td>175</td>\n",
       "      <td>OK</td>\n",
       "      <td>NaN</td>\n",
       "    </tr>\n",
       "    <tr>\n",
       "      <th>203</th>\n",
       "      <td>75A3N1ELH4SSAD097SSAD0</td>\n",
       "      <td>[0.048893, 0.067376, 0.072774, 0.069312, 0.080...</td>\n",
       "      <td>175</td>\n",
       "      <td>OK</td>\n",
       "      <td>NaN</td>\n",
       "    </tr>\n",
       "  </tbody>\n",
       "</table>\n",
       "<p>204 rows × 5 columns</p>\n",
       "</div>"
      ],
      "text/plain": [
       "                         ID  \\\n",
       "0    34311BEMH4SS7D103SS7D1   \n",
       "1    34311JEKH4SS7D103SS7D1   \n",
       "2    34312BELH4SS7D103SS7D1   \n",
       "3    34312CEMH4SS7D103SS7D1   \n",
       "4    34312FEKH4SS7D103SS7D1   \n",
       "..                      ...   \n",
       "199  75A3LFEMH4SSAD097SSAD0   \n",
       "200  75A3M0ELH4SSAD097SSAD0   \n",
       "201  75A3M8EJH4SSAD097SSAD0   \n",
       "202  75A3MNELH4SSAD097SSAD0   \n",
       "203  75A3N1ELH4SSAD097SSAD0   \n",
       "\n",
       "                                               feature  len_feature Label  \\\n",
       "0    [0.018876, 0.058013, 0.089152, 0.068431, 0.142...          175    OK   \n",
       "1    [0.028912, 0.058278, 0.091492, 0.066836, 0.156...          175    OK   \n",
       "2    [0.034515, 0.058238, 0.045573, 0.103853, 0.244...          175    OK   \n",
       "3    [0.033997, 0.058677, 0.072719, 0.176351, 0.327...          175    OK   \n",
       "4    [0.048112, 0.07916, 0.080094, 0.054201, 0.1936...          175    OK   \n",
       "..                                                 ...          ...   ...   \n",
       "199  [0.077545, 0.085346, 0.087338, 0.087534, 0.052...          175    OK   \n",
       "200  [0.068732, 0.044057, 0.044852, 0.05198, 0.0572...          175    OK   \n",
       "201  [0.075911, 0.087448, 0.079928, 0.076893, 0.045...          175    OK   \n",
       "202  [0.049516, 0.075042, 0.074886, 0.077547, 0.059...          175    OK   \n",
       "203  [0.048893, 0.067376, 0.072774, 0.069312, 0.080...          175    OK   \n",
       "\n",
       "    Remark  \n",
       "0      NaN  \n",
       "1      NaN  \n",
       "2      NaN  \n",
       "3      NaN  \n",
       "4      NaN  \n",
       "..     ...  \n",
       "199    NaN  \n",
       "200    NaN  \n",
       "201    NaN  \n",
       "202    NaN  \n",
       "203    NaN  \n",
       "\n",
       "[204 rows x 5 columns]"
      ]
     },
     "execution_count": 9,
     "metadata": {},
     "output_type": "execute_result"
    }
   ],
   "source": [
    "df.feature = df[['feature', 'len_feature']].apply(\n",
    "    lambda x: x[0] + [0 for _ in range(max_len_feature - x[1])],\n",
    "    axis=1\n",
    ")\n",
    "df.len_feature = df.feature.apply(len)\n",
    "df"
   ]
  },
  {
   "cell_type": "markdown",
   "id": "1048ecb8",
   "metadata": {},
   "source": [
    "## 1.3. Prepare label"
   ]
  },
  {
   "cell_type": "code",
   "execution_count": 10,
   "id": "1c5d5aff",
   "metadata": {},
   "outputs": [
    {
     "data": {
      "text/html": [
       "<div>\n",
       "<style scoped>\n",
       "    .dataframe tbody tr th:only-of-type {\n",
       "        vertical-align: middle;\n",
       "    }\n",
       "\n",
       "    .dataframe tbody tr th {\n",
       "        vertical-align: top;\n",
       "    }\n",
       "\n",
       "    .dataframe thead th {\n",
       "        text-align: right;\n",
       "    }\n",
       "</style>\n",
       "<table border=\"1\" class=\"dataframe\">\n",
       "  <thead>\n",
       "    <tr style=\"text-align: right;\">\n",
       "      <th></th>\n",
       "      <th>ID</th>\n",
       "      <th>feature</th>\n",
       "      <th>len_feature</th>\n",
       "      <th>Label</th>\n",
       "      <th>Remark</th>\n",
       "    </tr>\n",
       "  </thead>\n",
       "  <tbody>\n",
       "    <tr>\n",
       "      <th>0</th>\n",
       "      <td>34311BEMH4SS7D103SS7D1</td>\n",
       "      <td>[0.018876, 0.058013, 0.089152, 0.068431, 0.142...</td>\n",
       "      <td>175</td>\n",
       "      <td>OK</td>\n",
       "      <td>-1</td>\n",
       "    </tr>\n",
       "    <tr>\n",
       "      <th>1</th>\n",
       "      <td>34311JEKH4SS7D103SS7D1</td>\n",
       "      <td>[0.028912, 0.058278, 0.091492, 0.066836, 0.156...</td>\n",
       "      <td>175</td>\n",
       "      <td>OK</td>\n",
       "      <td>-1</td>\n",
       "    </tr>\n",
       "    <tr>\n",
       "      <th>2</th>\n",
       "      <td>34312BELH4SS7D103SS7D1</td>\n",
       "      <td>[0.034515, 0.058238, 0.045573, 0.103853, 0.244...</td>\n",
       "      <td>175</td>\n",
       "      <td>OK</td>\n",
       "      <td>-1</td>\n",
       "    </tr>\n",
       "    <tr>\n",
       "      <th>3</th>\n",
       "      <td>34312CEMH4SS7D103SS7D1</td>\n",
       "      <td>[0.033997, 0.058677, 0.072719, 0.176351, 0.327...</td>\n",
       "      <td>175</td>\n",
       "      <td>OK</td>\n",
       "      <td>-1</td>\n",
       "    </tr>\n",
       "    <tr>\n",
       "      <th>4</th>\n",
       "      <td>34312FEKH4SS7D103SS7D1</td>\n",
       "      <td>[0.048112, 0.07916, 0.080094, 0.054201, 0.1936...</td>\n",
       "      <td>175</td>\n",
       "      <td>OK</td>\n",
       "      <td>-1</td>\n",
       "    </tr>\n",
       "    <tr>\n",
       "      <th>...</th>\n",
       "      <td>...</td>\n",
       "      <td>...</td>\n",
       "      <td>...</td>\n",
       "      <td>...</td>\n",
       "      <td>...</td>\n",
       "    </tr>\n",
       "    <tr>\n",
       "      <th>199</th>\n",
       "      <td>75A3LFEMH4SSAD097SSAD0</td>\n",
       "      <td>[0.077545, 0.085346, 0.087338, 0.087534, 0.052...</td>\n",
       "      <td>175</td>\n",
       "      <td>OK</td>\n",
       "      <td>-1</td>\n",
       "    </tr>\n",
       "    <tr>\n",
       "      <th>200</th>\n",
       "      <td>75A3M0ELH4SSAD097SSAD0</td>\n",
       "      <td>[0.068732, 0.044057, 0.044852, 0.05198, 0.0572...</td>\n",
       "      <td>175</td>\n",
       "      <td>OK</td>\n",
       "      <td>-1</td>\n",
       "    </tr>\n",
       "    <tr>\n",
       "      <th>201</th>\n",
       "      <td>75A3M8EJH4SSAD097SSAD0</td>\n",
       "      <td>[0.075911, 0.087448, 0.079928, 0.076893, 0.045...</td>\n",
       "      <td>175</td>\n",
       "      <td>OK</td>\n",
       "      <td>-1</td>\n",
       "    </tr>\n",
       "    <tr>\n",
       "      <th>202</th>\n",
       "      <td>75A3MNELH4SSAD097SSAD0</td>\n",
       "      <td>[0.049516, 0.075042, 0.074886, 0.077547, 0.059...</td>\n",
       "      <td>175</td>\n",
       "      <td>OK</td>\n",
       "      <td>-1</td>\n",
       "    </tr>\n",
       "    <tr>\n",
       "      <th>203</th>\n",
       "      <td>75A3N1ELH4SSAD097SSAD0</td>\n",
       "      <td>[0.048893, 0.067376, 0.072774, 0.069312, 0.080...</td>\n",
       "      <td>175</td>\n",
       "      <td>OK</td>\n",
       "      <td>-1</td>\n",
       "    </tr>\n",
       "  </tbody>\n",
       "</table>\n",
       "<p>204 rows × 5 columns</p>\n",
       "</div>"
      ],
      "text/plain": [
       "                         ID  \\\n",
       "0    34311BEMH4SS7D103SS7D1   \n",
       "1    34311JEKH4SS7D103SS7D1   \n",
       "2    34312BELH4SS7D103SS7D1   \n",
       "3    34312CEMH4SS7D103SS7D1   \n",
       "4    34312FEKH4SS7D103SS7D1   \n",
       "..                      ...   \n",
       "199  75A3LFEMH4SSAD097SSAD0   \n",
       "200  75A3M0ELH4SSAD097SSAD0   \n",
       "201  75A3M8EJH4SSAD097SSAD0   \n",
       "202  75A3MNELH4SSAD097SSAD0   \n",
       "203  75A3N1ELH4SSAD097SSAD0   \n",
       "\n",
       "                                               feature  len_feature Label  \\\n",
       "0    [0.018876, 0.058013, 0.089152, 0.068431, 0.142...          175    OK   \n",
       "1    [0.028912, 0.058278, 0.091492, 0.066836, 0.156...          175    OK   \n",
       "2    [0.034515, 0.058238, 0.045573, 0.103853, 0.244...          175    OK   \n",
       "3    [0.033997, 0.058677, 0.072719, 0.176351, 0.327...          175    OK   \n",
       "4    [0.048112, 0.07916, 0.080094, 0.054201, 0.1936...          175    OK   \n",
       "..                                                 ...          ...   ...   \n",
       "199  [0.077545, 0.085346, 0.087338, 0.087534, 0.052...          175    OK   \n",
       "200  [0.068732, 0.044057, 0.044852, 0.05198, 0.0572...          175    OK   \n",
       "201  [0.075911, 0.087448, 0.079928, 0.076893, 0.045...          175    OK   \n",
       "202  [0.049516, 0.075042, 0.074886, 0.077547, 0.059...          175    OK   \n",
       "203  [0.048893, 0.067376, 0.072774, 0.069312, 0.080...          175    OK   \n",
       "\n",
       "    Remark  \n",
       "0       -1  \n",
       "1       -1  \n",
       "2       -1  \n",
       "3       -1  \n",
       "4       -1  \n",
       "..     ...  \n",
       "199     -1  \n",
       "200     -1  \n",
       "201     -1  \n",
       "202     -1  \n",
       "203     -1  \n",
       "\n",
       "[204 rows x 5 columns]"
      ]
     },
     "execution_count": 10,
     "metadata": {},
     "output_type": "execute_result"
    }
   ],
   "source": [
    "df = df.fillna({'Remark': '-1'})\n",
    "df"
   ]
  },
  {
   "cell_type": "code",
   "execution_count": 11,
   "id": "6b683a74",
   "metadata": {},
   "outputs": [],
   "source": [
    "def prepare_binary_classification_label(info):\n",
    "    return 0 if info['Label'] == 'OK' else 1"
   ]
  },
  {
   "cell_type": "code",
   "execution_count": 12,
   "id": "a02150a8",
   "metadata": {},
   "outputs": [],
   "source": [
    "def prepare_multi_class_classification_label(info):\n",
    "    if info['Label'] == 'OK':\n",
    "        return 0\n",
    "    elif info['Label'] == 'NG':\n",
    "        if info['Remark'] != '-1':\n",
    "            return int(info['Remark'][-1])\n",
    "        else:\n",
    "            return -1"
   ]
  },
  {
   "cell_type": "code",
   "execution_count": 13,
   "id": "e813cc3c",
   "metadata": {},
   "outputs": [],
   "source": [
    "df['binary_label'] = df[['Label', 'Remark']].apply(\n",
    "    prepare_binary_classification_label,\n",
    "    axis=1\n",
    ")"
   ]
  },
  {
   "cell_type": "code",
   "execution_count": 14,
   "id": "6afd916e",
   "metadata": {},
   "outputs": [],
   "source": [
    "df['multi_class_label'] = df[['Label', 'Remark']].apply(\n",
    "    prepare_multi_class_classification_label,\n",
    "    axis=1\n",
    ")"
   ]
  },
  {
   "cell_type": "code",
   "execution_count": 15,
   "id": "5418335e",
   "metadata": {},
   "outputs": [
    {
     "data": {
      "text/html": [
       "<div>\n",
       "<style scoped>\n",
       "    .dataframe tbody tr th:only-of-type {\n",
       "        vertical-align: middle;\n",
       "    }\n",
       "\n",
       "    .dataframe tbody tr th {\n",
       "        vertical-align: top;\n",
       "    }\n",
       "\n",
       "    .dataframe thead th {\n",
       "        text-align: right;\n",
       "    }\n",
       "</style>\n",
       "<table border=\"1\" class=\"dataframe\">\n",
       "  <thead>\n",
       "    <tr style=\"text-align: right;\">\n",
       "      <th></th>\n",
       "      <th>ID</th>\n",
       "      <th>feature</th>\n",
       "      <th>len_feature</th>\n",
       "      <th>Label</th>\n",
       "      <th>Remark</th>\n",
       "      <th>binary_label</th>\n",
       "      <th>multi_class_label</th>\n",
       "    </tr>\n",
       "  </thead>\n",
       "  <tbody>\n",
       "    <tr>\n",
       "      <th>0</th>\n",
       "      <td>34311BEMH4SS7D103SS7D1</td>\n",
       "      <td>[0.018876, 0.058013, 0.089152, 0.068431, 0.142...</td>\n",
       "      <td>175</td>\n",
       "      <td>OK</td>\n",
       "      <td>-1</td>\n",
       "      <td>0</td>\n",
       "      <td>0</td>\n",
       "    </tr>\n",
       "    <tr>\n",
       "      <th>1</th>\n",
       "      <td>34311JEKH4SS7D103SS7D1</td>\n",
       "      <td>[0.028912, 0.058278, 0.091492, 0.066836, 0.156...</td>\n",
       "      <td>175</td>\n",
       "      <td>OK</td>\n",
       "      <td>-1</td>\n",
       "      <td>0</td>\n",
       "      <td>0</td>\n",
       "    </tr>\n",
       "    <tr>\n",
       "      <th>2</th>\n",
       "      <td>34312BELH4SS7D103SS7D1</td>\n",
       "      <td>[0.034515, 0.058238, 0.045573, 0.103853, 0.244...</td>\n",
       "      <td>175</td>\n",
       "      <td>OK</td>\n",
       "      <td>-1</td>\n",
       "      <td>0</td>\n",
       "      <td>0</td>\n",
       "    </tr>\n",
       "    <tr>\n",
       "      <th>3</th>\n",
       "      <td>34312CEMH4SS7D103SS7D1</td>\n",
       "      <td>[0.033997, 0.058677, 0.072719, 0.176351, 0.327...</td>\n",
       "      <td>175</td>\n",
       "      <td>OK</td>\n",
       "      <td>-1</td>\n",
       "      <td>0</td>\n",
       "      <td>0</td>\n",
       "    </tr>\n",
       "    <tr>\n",
       "      <th>4</th>\n",
       "      <td>34312FEKH4SS7D103SS7D1</td>\n",
       "      <td>[0.048112, 0.07916, 0.080094, 0.054201, 0.1936...</td>\n",
       "      <td>175</td>\n",
       "      <td>OK</td>\n",
       "      <td>-1</td>\n",
       "      <td>0</td>\n",
       "      <td>0</td>\n",
       "    </tr>\n",
       "    <tr>\n",
       "      <th>...</th>\n",
       "      <td>...</td>\n",
       "      <td>...</td>\n",
       "      <td>...</td>\n",
       "      <td>...</td>\n",
       "      <td>...</td>\n",
       "      <td>...</td>\n",
       "      <td>...</td>\n",
       "    </tr>\n",
       "    <tr>\n",
       "      <th>199</th>\n",
       "      <td>75A3LFEMH4SSAD097SSAD0</td>\n",
       "      <td>[0.077545, 0.085346, 0.087338, 0.087534, 0.052...</td>\n",
       "      <td>175</td>\n",
       "      <td>OK</td>\n",
       "      <td>-1</td>\n",
       "      <td>0</td>\n",
       "      <td>0</td>\n",
       "    </tr>\n",
       "    <tr>\n",
       "      <th>200</th>\n",
       "      <td>75A3M0ELH4SSAD097SSAD0</td>\n",
       "      <td>[0.068732, 0.044057, 0.044852, 0.05198, 0.0572...</td>\n",
       "      <td>175</td>\n",
       "      <td>OK</td>\n",
       "      <td>-1</td>\n",
       "      <td>0</td>\n",
       "      <td>0</td>\n",
       "    </tr>\n",
       "    <tr>\n",
       "      <th>201</th>\n",
       "      <td>75A3M8EJH4SSAD097SSAD0</td>\n",
       "      <td>[0.075911, 0.087448, 0.079928, 0.076893, 0.045...</td>\n",
       "      <td>175</td>\n",
       "      <td>OK</td>\n",
       "      <td>-1</td>\n",
       "      <td>0</td>\n",
       "      <td>0</td>\n",
       "    </tr>\n",
       "    <tr>\n",
       "      <th>202</th>\n",
       "      <td>75A3MNELH4SSAD097SSAD0</td>\n",
       "      <td>[0.049516, 0.075042, 0.074886, 0.077547, 0.059...</td>\n",
       "      <td>175</td>\n",
       "      <td>OK</td>\n",
       "      <td>-1</td>\n",
       "      <td>0</td>\n",
       "      <td>0</td>\n",
       "    </tr>\n",
       "    <tr>\n",
       "      <th>203</th>\n",
       "      <td>75A3N1ELH4SSAD097SSAD0</td>\n",
       "      <td>[0.048893, 0.067376, 0.072774, 0.069312, 0.080...</td>\n",
       "      <td>175</td>\n",
       "      <td>OK</td>\n",
       "      <td>-1</td>\n",
       "      <td>0</td>\n",
       "      <td>0</td>\n",
       "    </tr>\n",
       "  </tbody>\n",
       "</table>\n",
       "<p>204 rows × 7 columns</p>\n",
       "</div>"
      ],
      "text/plain": [
       "                         ID  \\\n",
       "0    34311BEMH4SS7D103SS7D1   \n",
       "1    34311JEKH4SS7D103SS7D1   \n",
       "2    34312BELH4SS7D103SS7D1   \n",
       "3    34312CEMH4SS7D103SS7D1   \n",
       "4    34312FEKH4SS7D103SS7D1   \n",
       "..                      ...   \n",
       "199  75A3LFEMH4SSAD097SSAD0   \n",
       "200  75A3M0ELH4SSAD097SSAD0   \n",
       "201  75A3M8EJH4SSAD097SSAD0   \n",
       "202  75A3MNELH4SSAD097SSAD0   \n",
       "203  75A3N1ELH4SSAD097SSAD0   \n",
       "\n",
       "                                               feature  len_feature Label  \\\n",
       "0    [0.018876, 0.058013, 0.089152, 0.068431, 0.142...          175    OK   \n",
       "1    [0.028912, 0.058278, 0.091492, 0.066836, 0.156...          175    OK   \n",
       "2    [0.034515, 0.058238, 0.045573, 0.103853, 0.244...          175    OK   \n",
       "3    [0.033997, 0.058677, 0.072719, 0.176351, 0.327...          175    OK   \n",
       "4    [0.048112, 0.07916, 0.080094, 0.054201, 0.1936...          175    OK   \n",
       "..                                                 ...          ...   ...   \n",
       "199  [0.077545, 0.085346, 0.087338, 0.087534, 0.052...          175    OK   \n",
       "200  [0.068732, 0.044057, 0.044852, 0.05198, 0.0572...          175    OK   \n",
       "201  [0.075911, 0.087448, 0.079928, 0.076893, 0.045...          175    OK   \n",
       "202  [0.049516, 0.075042, 0.074886, 0.077547, 0.059...          175    OK   \n",
       "203  [0.048893, 0.067376, 0.072774, 0.069312, 0.080...          175    OK   \n",
       "\n",
       "    Remark  binary_label  multi_class_label  \n",
       "0       -1             0                  0  \n",
       "1       -1             0                  0  \n",
       "2       -1             0                  0  \n",
       "3       -1             0                  0  \n",
       "4       -1             0                  0  \n",
       "..     ...           ...                ...  \n",
       "199     -1             0                  0  \n",
       "200     -1             0                  0  \n",
       "201     -1             0                  0  \n",
       "202     -1             0                  0  \n",
       "203     -1             0                  0  \n",
       "\n",
       "[204 rows x 7 columns]"
      ]
     },
     "execution_count": 15,
     "metadata": {},
     "output_type": "execute_result"
    }
   ],
   "source": [
    "df"
   ]
  },
  {
   "cell_type": "code",
   "execution_count": 16,
   "id": "51a51108",
   "metadata": {},
   "outputs": [
    {
     "data": {
      "text/plain": [
       "1    103\n",
       "0    101\n",
       "Name: binary_label, dtype: int64"
      ]
     },
     "execution_count": 16,
     "metadata": {},
     "output_type": "execute_result"
    }
   ],
   "source": [
    "df.binary_label.value_counts()"
   ]
  },
  {
   "cell_type": "code",
   "execution_count": 17,
   "id": "dda257f6",
   "metadata": {},
   "outputs": [
    {
     "data": {
      "text/plain": [
       " 0    101\n",
       " 2     97\n",
       " 1      5\n",
       "-1      1\n",
       "Name: multi_class_label, dtype: int64"
      ]
     },
     "execution_count": 17,
     "metadata": {},
     "output_type": "execute_result"
    }
   ],
   "source": [
    "df.multi_class_label.value_counts()"
   ]
  },
  {
   "cell_type": "code",
   "execution_count": 18,
   "id": "26b75755",
   "metadata": {},
   "outputs": [
    {
     "data": {
      "text/html": [
       "<div>\n",
       "<style scoped>\n",
       "    .dataframe tbody tr th:only-of-type {\n",
       "        vertical-align: middle;\n",
       "    }\n",
       "\n",
       "    .dataframe tbody tr th {\n",
       "        vertical-align: top;\n",
       "    }\n",
       "\n",
       "    .dataframe thead th {\n",
       "        text-align: right;\n",
       "    }\n",
       "</style>\n",
       "<table border=\"1\" class=\"dataframe\">\n",
       "  <thead>\n",
       "    <tr style=\"text-align: right;\">\n",
       "      <th></th>\n",
       "      <th>feature</th>\n",
       "      <th>binary_label</th>\n",
       "    </tr>\n",
       "  </thead>\n",
       "  <tbody>\n",
       "    <tr>\n",
       "      <th>0</th>\n",
       "      <td>[0.018876, 0.058013, 0.089152, 0.068431, 0.142...</td>\n",
       "      <td>0</td>\n",
       "    </tr>\n",
       "    <tr>\n",
       "      <th>1</th>\n",
       "      <td>[0.028912, 0.058278, 0.091492, 0.066836, 0.156...</td>\n",
       "      <td>0</td>\n",
       "    </tr>\n",
       "    <tr>\n",
       "      <th>2</th>\n",
       "      <td>[0.034515, 0.058238, 0.045573, 0.103853, 0.244...</td>\n",
       "      <td>0</td>\n",
       "    </tr>\n",
       "    <tr>\n",
       "      <th>3</th>\n",
       "      <td>[0.033997, 0.058677, 0.072719, 0.176351, 0.327...</td>\n",
       "      <td>0</td>\n",
       "    </tr>\n",
       "    <tr>\n",
       "      <th>4</th>\n",
       "      <td>[0.048112, 0.07916, 0.080094, 0.054201, 0.1936...</td>\n",
       "      <td>0</td>\n",
       "    </tr>\n",
       "    <tr>\n",
       "      <th>...</th>\n",
       "      <td>...</td>\n",
       "      <td>...</td>\n",
       "    </tr>\n",
       "    <tr>\n",
       "      <th>199</th>\n",
       "      <td>[0.077545, 0.085346, 0.087338, 0.087534, 0.052...</td>\n",
       "      <td>0</td>\n",
       "    </tr>\n",
       "    <tr>\n",
       "      <th>200</th>\n",
       "      <td>[0.068732, 0.044057, 0.044852, 0.05198, 0.0572...</td>\n",
       "      <td>0</td>\n",
       "    </tr>\n",
       "    <tr>\n",
       "      <th>201</th>\n",
       "      <td>[0.075911, 0.087448, 0.079928, 0.076893, 0.045...</td>\n",
       "      <td>0</td>\n",
       "    </tr>\n",
       "    <tr>\n",
       "      <th>202</th>\n",
       "      <td>[0.049516, 0.075042, 0.074886, 0.077547, 0.059...</td>\n",
       "      <td>0</td>\n",
       "    </tr>\n",
       "    <tr>\n",
       "      <th>203</th>\n",
       "      <td>[0.048893, 0.067376, 0.072774, 0.069312, 0.080...</td>\n",
       "      <td>0</td>\n",
       "    </tr>\n",
       "  </tbody>\n",
       "</table>\n",
       "<p>204 rows × 2 columns</p>\n",
       "</div>"
      ],
      "text/plain": [
       "                                               feature  binary_label\n",
       "0    [0.018876, 0.058013, 0.089152, 0.068431, 0.142...             0\n",
       "1    [0.028912, 0.058278, 0.091492, 0.066836, 0.156...             0\n",
       "2    [0.034515, 0.058238, 0.045573, 0.103853, 0.244...             0\n",
       "3    [0.033997, 0.058677, 0.072719, 0.176351, 0.327...             0\n",
       "4    [0.048112, 0.07916, 0.080094, 0.054201, 0.1936...             0\n",
       "..                                                 ...           ...\n",
       "199  [0.077545, 0.085346, 0.087338, 0.087534, 0.052...             0\n",
       "200  [0.068732, 0.044057, 0.044852, 0.05198, 0.0572...             0\n",
       "201  [0.075911, 0.087448, 0.079928, 0.076893, 0.045...             0\n",
       "202  [0.049516, 0.075042, 0.074886, 0.077547, 0.059...             0\n",
       "203  [0.048893, 0.067376, 0.072774, 0.069312, 0.080...             0\n",
       "\n",
       "[204 rows x 2 columns]"
      ]
     },
     "execution_count": 18,
     "metadata": {},
     "output_type": "execute_result"
    }
   ],
   "source": [
    "binary_df = df[['feature', 'binary_label']]\n",
    "binary_df"
   ]
  },
  {
   "cell_type": "code",
   "execution_count": 19,
   "id": "002ae5e4",
   "metadata": {},
   "outputs": [
    {
     "data": {
      "text/html": [
       "<div>\n",
       "<style scoped>\n",
       "    .dataframe tbody tr th:only-of-type {\n",
       "        vertical-align: middle;\n",
       "    }\n",
       "\n",
       "    .dataframe tbody tr th {\n",
       "        vertical-align: top;\n",
       "    }\n",
       "\n",
       "    .dataframe thead th {\n",
       "        text-align: right;\n",
       "    }\n",
       "</style>\n",
       "<table border=\"1\" class=\"dataframe\">\n",
       "  <thead>\n",
       "    <tr style=\"text-align: right;\">\n",
       "      <th></th>\n",
       "      <th>feature</th>\n",
       "      <th>multi_class_label</th>\n",
       "    </tr>\n",
       "  </thead>\n",
       "  <tbody>\n",
       "    <tr>\n",
       "      <th>0</th>\n",
       "      <td>[0.018876, 0.058013, 0.089152, 0.068431, 0.142...</td>\n",
       "      <td>0</td>\n",
       "    </tr>\n",
       "    <tr>\n",
       "      <th>1</th>\n",
       "      <td>[0.028912, 0.058278, 0.091492, 0.066836, 0.156...</td>\n",
       "      <td>0</td>\n",
       "    </tr>\n",
       "    <tr>\n",
       "      <th>2</th>\n",
       "      <td>[0.034515, 0.058238, 0.045573, 0.103853, 0.244...</td>\n",
       "      <td>0</td>\n",
       "    </tr>\n",
       "    <tr>\n",
       "      <th>3</th>\n",
       "      <td>[0.033997, 0.058677, 0.072719, 0.176351, 0.327...</td>\n",
       "      <td>0</td>\n",
       "    </tr>\n",
       "    <tr>\n",
       "      <th>4</th>\n",
       "      <td>[0.048112, 0.07916, 0.080094, 0.054201, 0.1936...</td>\n",
       "      <td>0</td>\n",
       "    </tr>\n",
       "    <tr>\n",
       "      <th>...</th>\n",
       "      <td>...</td>\n",
       "      <td>...</td>\n",
       "    </tr>\n",
       "    <tr>\n",
       "      <th>199</th>\n",
       "      <td>[0.077545, 0.085346, 0.087338, 0.087534, 0.052...</td>\n",
       "      <td>0</td>\n",
       "    </tr>\n",
       "    <tr>\n",
       "      <th>200</th>\n",
       "      <td>[0.068732, 0.044057, 0.044852, 0.05198, 0.0572...</td>\n",
       "      <td>0</td>\n",
       "    </tr>\n",
       "    <tr>\n",
       "      <th>201</th>\n",
       "      <td>[0.075911, 0.087448, 0.079928, 0.076893, 0.045...</td>\n",
       "      <td>0</td>\n",
       "    </tr>\n",
       "    <tr>\n",
       "      <th>202</th>\n",
       "      <td>[0.049516, 0.075042, 0.074886, 0.077547, 0.059...</td>\n",
       "      <td>0</td>\n",
       "    </tr>\n",
       "    <tr>\n",
       "      <th>203</th>\n",
       "      <td>[0.048893, 0.067376, 0.072774, 0.069312, 0.080...</td>\n",
       "      <td>0</td>\n",
       "    </tr>\n",
       "  </tbody>\n",
       "</table>\n",
       "<p>203 rows × 2 columns</p>\n",
       "</div>"
      ],
      "text/plain": [
       "                                               feature  multi_class_label\n",
       "0    [0.018876, 0.058013, 0.089152, 0.068431, 0.142...                  0\n",
       "1    [0.028912, 0.058278, 0.091492, 0.066836, 0.156...                  0\n",
       "2    [0.034515, 0.058238, 0.045573, 0.103853, 0.244...                  0\n",
       "3    [0.033997, 0.058677, 0.072719, 0.176351, 0.327...                  0\n",
       "4    [0.048112, 0.07916, 0.080094, 0.054201, 0.1936...                  0\n",
       "..                                                 ...                ...\n",
       "199  [0.077545, 0.085346, 0.087338, 0.087534, 0.052...                  0\n",
       "200  [0.068732, 0.044057, 0.044852, 0.05198, 0.0572...                  0\n",
       "201  [0.075911, 0.087448, 0.079928, 0.076893, 0.045...                  0\n",
       "202  [0.049516, 0.075042, 0.074886, 0.077547, 0.059...                  0\n",
       "203  [0.048893, 0.067376, 0.072774, 0.069312, 0.080...                  0\n",
       "\n",
       "[203 rows x 2 columns]"
      ]
     },
     "execution_count": 19,
     "metadata": {},
     "output_type": "execute_result"
    }
   ],
   "source": [
    "multi_class_df = df[['feature', 'multi_class_label']]\n",
    "multi_class_df = multi_class_df[multi_class_df.multi_class_label != -1]\n",
    "multi_class_df"
   ]
  },
  {
   "cell_type": "markdown",
   "id": "29b73a12",
   "metadata": {},
   "source": [
    "# 2. SPLIT DATA INTO TRAIN SET AND VAL SET"
   ]
  },
  {
   "cell_type": "markdown",
   "id": "3421d55c",
   "metadata": {},
   "source": [
    "## 2.1. Binary classification data"
   ]
  },
  {
   "cell_type": "code",
   "execution_count": 20,
   "id": "b6fe114c",
   "metadata": {},
   "outputs": [],
   "source": [
    "binary_df = binary_df.sample(frac=1, random_state=1)\n",
    "multi_class_df = multi_class_df.sample(frac=1, random_state=1)"
   ]
  },
  {
   "cell_type": "code",
   "execution_count": 21,
   "id": "56643a0c",
   "metadata": {},
   "outputs": [
    {
     "data": {
      "text/html": [
       "<div>\n",
       "<style scoped>\n",
       "    .dataframe tbody tr th:only-of-type {\n",
       "        vertical-align: middle;\n",
       "    }\n",
       "\n",
       "    .dataframe tbody tr th {\n",
       "        vertical-align: top;\n",
       "    }\n",
       "\n",
       "    .dataframe thead th {\n",
       "        text-align: right;\n",
       "    }\n",
       "</style>\n",
       "<table border=\"1\" class=\"dataframe\">\n",
       "  <thead>\n",
       "    <tr style=\"text-align: right;\">\n",
       "      <th></th>\n",
       "      <th>feature</th>\n",
       "      <th>binary_label</th>\n",
       "    </tr>\n",
       "  </thead>\n",
       "  <tbody>\n",
       "    <tr>\n",
       "      <th>127</th>\n",
       "      <td>[0.535333, 0.043186, 0.045916, 0.050854, 0.063...</td>\n",
       "      <td>1</td>\n",
       "    </tr>\n",
       "    <tr>\n",
       "      <th>203</th>\n",
       "      <td>[0.048893, 0.067376, 0.072774, 0.069312, 0.080...</td>\n",
       "      <td>0</td>\n",
       "    </tr>\n",
       "    <tr>\n",
       "      <th>18</th>\n",
       "      <td>[0.043665, 0.046353, 0.085347, 0.070402, 0.116...</td>\n",
       "      <td>0</td>\n",
       "    </tr>\n",
       "    <tr>\n",
       "      <th>175</th>\n",
       "      <td>[0.122505, 0.071583, 0.070109, 0.060757, 0.039...</td>\n",
       "      <td>0</td>\n",
       "    </tr>\n",
       "    <tr>\n",
       "      <th>196</th>\n",
       "      <td>[0.063541, 0.074936, 0.073245, 0.070832, 0.046...</td>\n",
       "      <td>0</td>\n",
       "    </tr>\n",
       "    <tr>\n",
       "      <th>...</th>\n",
       "      <td>...</td>\n",
       "      <td>...</td>\n",
       "    </tr>\n",
       "    <tr>\n",
       "      <th>133</th>\n",
       "      <td>[0.582731, 0.063073, 0.068967, 0.071604, 0.052...</td>\n",
       "      <td>1</td>\n",
       "    </tr>\n",
       "    <tr>\n",
       "      <th>137</th>\n",
       "      <td>[0.598603, 0.050257, 0.050297, 0.045689, 0.059...</td>\n",
       "      <td>1</td>\n",
       "    </tr>\n",
       "    <tr>\n",
       "      <th>72</th>\n",
       "      <td>[0.486722, 0.034657, 0.032115, 0.036082, 0.039...</td>\n",
       "      <td>1</td>\n",
       "    </tr>\n",
       "    <tr>\n",
       "      <th>140</th>\n",
       "      <td>[0.63131, 0.04949, 0.049873, 0.052852, 0.04608...</td>\n",
       "      <td>1</td>\n",
       "    </tr>\n",
       "    <tr>\n",
       "      <th>37</th>\n",
       "      <td>[0.025553, 0.049748, 0.089849, 0.071686, 0.118...</td>\n",
       "      <td>0</td>\n",
       "    </tr>\n",
       "  </tbody>\n",
       "</table>\n",
       "<p>204 rows × 2 columns</p>\n",
       "</div>"
      ],
      "text/plain": [
       "                                               feature  binary_label\n",
       "127  [0.535333, 0.043186, 0.045916, 0.050854, 0.063...             1\n",
       "203  [0.048893, 0.067376, 0.072774, 0.069312, 0.080...             0\n",
       "18   [0.043665, 0.046353, 0.085347, 0.070402, 0.116...             0\n",
       "175  [0.122505, 0.071583, 0.070109, 0.060757, 0.039...             0\n",
       "196  [0.063541, 0.074936, 0.073245, 0.070832, 0.046...             0\n",
       "..                                                 ...           ...\n",
       "133  [0.582731, 0.063073, 0.068967, 0.071604, 0.052...             1\n",
       "137  [0.598603, 0.050257, 0.050297, 0.045689, 0.059...             1\n",
       "72   [0.486722, 0.034657, 0.032115, 0.036082, 0.039...             1\n",
       "140  [0.63131, 0.04949, 0.049873, 0.052852, 0.04608...             1\n",
       "37   [0.025553, 0.049748, 0.089849, 0.071686, 0.118...             0\n",
       "\n",
       "[204 rows x 2 columns]"
      ]
     },
     "execution_count": 21,
     "metadata": {},
     "output_type": "execute_result"
    }
   ],
   "source": [
    "binary_df"
   ]
  },
  {
   "cell_type": "code",
   "execution_count": 22,
   "id": "9c7268e0",
   "metadata": {},
   "outputs": [
    {
     "data": {
      "text/html": [
       "<div>\n",
       "<style scoped>\n",
       "    .dataframe tbody tr th:only-of-type {\n",
       "        vertical-align: middle;\n",
       "    }\n",
       "\n",
       "    .dataframe tbody tr th {\n",
       "        vertical-align: top;\n",
       "    }\n",
       "\n",
       "    .dataframe thead th {\n",
       "        text-align: right;\n",
       "    }\n",
       "</style>\n",
       "<table border=\"1\" class=\"dataframe\">\n",
       "  <thead>\n",
       "    <tr style=\"text-align: right;\">\n",
       "      <th></th>\n",
       "      <th>feature</th>\n",
       "      <th>multi_class_label</th>\n",
       "    </tr>\n",
       "  </thead>\n",
       "  <tbody>\n",
       "    <tr>\n",
       "      <th>175</th>\n",
       "      <td>[0.122505, 0.071583, 0.070109, 0.060757, 0.039...</td>\n",
       "      <td>0</td>\n",
       "    </tr>\n",
       "    <tr>\n",
       "      <th>176</th>\n",
       "      <td>[0.074648, 0.074276, 0.073163, 0.0695, 0.04317...</td>\n",
       "      <td>0</td>\n",
       "    </tr>\n",
       "    <tr>\n",
       "      <th>18</th>\n",
       "      <td>[0.043665, 0.046353, 0.085347, 0.070402, 0.116...</td>\n",
       "      <td>0</td>\n",
       "    </tr>\n",
       "    <tr>\n",
       "      <th>59</th>\n",
       "      <td>[0.465337, 0.067762, 0.068347, 0.064832, 0.069...</td>\n",
       "      <td>2</td>\n",
       "    </tr>\n",
       "    <tr>\n",
       "      <th>143</th>\n",
       "      <td>[0.621599, 0.065458, 0.060247, 0.065253, 0.071...</td>\n",
       "      <td>2</td>\n",
       "    </tr>\n",
       "    <tr>\n",
       "      <th>...</th>\n",
       "      <td>...</td>\n",
       "      <td>...</td>\n",
       "    </tr>\n",
       "    <tr>\n",
       "      <th>133</th>\n",
       "      <td>[0.582731, 0.063073, 0.068967, 0.071604, 0.052...</td>\n",
       "      <td>2</td>\n",
       "    </tr>\n",
       "    <tr>\n",
       "      <th>137</th>\n",
       "      <td>[0.598603, 0.050257, 0.050297, 0.045689, 0.059...</td>\n",
       "      <td>2</td>\n",
       "    </tr>\n",
       "    <tr>\n",
       "      <th>72</th>\n",
       "      <td>[0.486722, 0.034657, 0.032115, 0.036082, 0.039...</td>\n",
       "      <td>2</td>\n",
       "    </tr>\n",
       "    <tr>\n",
       "      <th>140</th>\n",
       "      <td>[0.63131, 0.04949, 0.049873, 0.052852, 0.04608...</td>\n",
       "      <td>1</td>\n",
       "    </tr>\n",
       "    <tr>\n",
       "      <th>37</th>\n",
       "      <td>[0.025553, 0.049748, 0.089849, 0.071686, 0.118...</td>\n",
       "      <td>0</td>\n",
       "    </tr>\n",
       "  </tbody>\n",
       "</table>\n",
       "<p>203 rows × 2 columns</p>\n",
       "</div>"
      ],
      "text/plain": [
       "                                               feature  multi_class_label\n",
       "175  [0.122505, 0.071583, 0.070109, 0.060757, 0.039...                  0\n",
       "176  [0.074648, 0.074276, 0.073163, 0.0695, 0.04317...                  0\n",
       "18   [0.043665, 0.046353, 0.085347, 0.070402, 0.116...                  0\n",
       "59   [0.465337, 0.067762, 0.068347, 0.064832, 0.069...                  2\n",
       "143  [0.621599, 0.065458, 0.060247, 0.065253, 0.071...                  2\n",
       "..                                                 ...                ...\n",
       "133  [0.582731, 0.063073, 0.068967, 0.071604, 0.052...                  2\n",
       "137  [0.598603, 0.050257, 0.050297, 0.045689, 0.059...                  2\n",
       "72   [0.486722, 0.034657, 0.032115, 0.036082, 0.039...                  2\n",
       "140  [0.63131, 0.04949, 0.049873, 0.052852, 0.04608...                  1\n",
       "37   [0.025553, 0.049748, 0.089849, 0.071686, 0.118...                  0\n",
       "\n",
       "[203 rows x 2 columns]"
      ]
     },
     "execution_count": 22,
     "metadata": {},
     "output_type": "execute_result"
    }
   ],
   "source": [
    "multi_class_df"
   ]
  },
  {
   "cell_type": "code",
   "execution_count": 23,
   "id": "f38f1df0",
   "metadata": {},
   "outputs": [],
   "source": [
    "train_val_pct = 0.25"
   ]
  },
  {
   "cell_type": "code",
   "execution_count": 24,
   "id": "b998d63a",
   "metadata": {},
   "outputs": [
    {
     "data": {
      "text/plain": [
       "array([[0.535333, 0.043186, 0.045916, ..., 0.      , 0.      , 0.      ],\n",
       "       [0.048893, 0.067376, 0.072774, ..., 0.      , 0.      , 0.      ],\n",
       "       [0.043665, 0.046353, 0.085347, ..., 0.      , 0.      , 0.      ],\n",
       "       ...,\n",
       "       [0.486722, 0.034657, 0.032115, ..., 0.      , 0.      , 0.      ],\n",
       "       [0.63131 , 0.04949 , 0.049873, ..., 0.      , 0.      , 0.      ],\n",
       "       [0.025553, 0.049748, 0.089849, ..., 0.      , 0.      , 0.      ]])"
      ]
     },
     "execution_count": 24,
     "metadata": {},
     "output_type": "execute_result"
    }
   ],
   "source": [
    "X_binary = np.array(binary_df.feature.to_list())\n",
    "X_binary"
   ]
  },
  {
   "cell_type": "code",
   "execution_count": 25,
   "id": "4ff6eab6",
   "metadata": {},
   "outputs": [
    {
     "data": {
      "text/plain": [
       "((204, 175), (51, 175), (153, 175))"
      ]
     },
     "execution_count": 25,
     "metadata": {},
     "output_type": "execute_result"
    }
   ],
   "source": [
    "X_train_binary = X_binary[:round(train_val_pct * X_binary.shape[0]), :]\n",
    "X_val_binary = X_binary[round(train_val_pct * X_binary.shape[0]):, :]\n",
    "\n",
    "X_binary.shape, X_train_binary.shape, X_val_binary.shape"
   ]
  },
  {
   "cell_type": "code",
   "execution_count": 26,
   "id": "5a4429e5",
   "metadata": {},
   "outputs": [
    {
     "data": {
      "text/plain": [
       "array([1, 0, 0, 0, 0, 0, 0, 0, 1, 0, 1, 0, 0, 1, 0, 1, 0, 1, 0, 1, 0, 1,\n",
       "       1, 0, 1, 0, 1, 0, 1, 1, 1, 0, 0, 0, 0, 1, 1, 1, 1, 0, 0, 1, 0, 0,\n",
       "       1, 0, 1, 1, 0, 0, 0, 0, 1, 0, 1, 1, 1, 1, 1, 1, 0, 0, 0, 0, 0, 0,\n",
       "       1, 1, 0, 0, 0, 0, 1, 0, 0, 1, 1, 0, 1, 0, 0, 0, 0, 0, 1, 0, 0, 1,\n",
       "       1, 1, 1, 0, 0, 1, 1, 0, 0, 1, 0, 0, 0, 0, 1, 1, 0, 1, 0, 1, 0, 1,\n",
       "       0, 0, 1, 1, 1, 0, 1, 0, 1, 1, 1, 1, 0, 1, 1, 0, 0, 1, 1, 1, 1, 1,\n",
       "       0, 0, 0, 1, 1, 1, 1, 0, 1, 0, 0, 1, 1, 1, 1, 0, 1, 0, 0, 0, 1, 1,\n",
       "       0, 0, 1, 0, 0, 0, 0, 0, 1, 1, 0, 0, 1, 1, 0, 0, 1, 1, 0, 0, 0, 1,\n",
       "       1, 0, 0, 1, 1, 1, 1, 0, 1, 1, 1, 1, 1, 1, 0, 0, 0, 1, 1, 1, 1, 0,\n",
       "       1, 1, 1, 1, 1, 0])"
      ]
     },
     "execution_count": 26,
     "metadata": {},
     "output_type": "execute_result"
    }
   ],
   "source": [
    "y_binary = np.array(binary_df.binary_label.to_list())\n",
    "y_binary"
   ]
  },
  {
   "cell_type": "code",
   "execution_count": 27,
   "id": "2c58d2b6",
   "metadata": {},
   "outputs": [
    {
     "data": {
      "text/plain": [
       "((204,), (51,), (153,))"
      ]
     },
     "execution_count": 27,
     "metadata": {},
     "output_type": "execute_result"
    }
   ],
   "source": [
    "y_train_binary = y_binary[:round(train_val_pct * y_binary.shape[0])]\n",
    "y_val_binary = y_binary[round(train_val_pct * y_binary.shape[0]):]\n",
    "\n",
    "y_binary.shape, y_train_binary.shape, y_val_binary.shape"
   ]
  },
  {
   "cell_type": "markdown",
   "id": "8ac7786a",
   "metadata": {},
   "source": [
    "## 2.2. Multi-class classification data"
   ]
  },
  {
   "cell_type": "code",
   "execution_count": 28,
   "id": "7081b358",
   "metadata": {},
   "outputs": [
    {
     "data": {
      "text/html": [
       "<div>\n",
       "<style scoped>\n",
       "    .dataframe tbody tr th:only-of-type {\n",
       "        vertical-align: middle;\n",
       "    }\n",
       "\n",
       "    .dataframe tbody tr th {\n",
       "        vertical-align: top;\n",
       "    }\n",
       "\n",
       "    .dataframe thead th {\n",
       "        text-align: right;\n",
       "    }\n",
       "</style>\n",
       "<table border=\"1\" class=\"dataframe\">\n",
       "  <thead>\n",
       "    <tr style=\"text-align: right;\">\n",
       "      <th></th>\n",
       "      <th>feature</th>\n",
       "      <th>multi_class_label</th>\n",
       "    </tr>\n",
       "  </thead>\n",
       "  <tbody>\n",
       "    <tr>\n",
       "      <th>175</th>\n",
       "      <td>[0.122505, 0.071583, 0.070109, 0.060757, 0.039...</td>\n",
       "      <td>0</td>\n",
       "    </tr>\n",
       "    <tr>\n",
       "      <th>176</th>\n",
       "      <td>[0.074648, 0.074276, 0.073163, 0.0695, 0.04317...</td>\n",
       "      <td>0</td>\n",
       "    </tr>\n",
       "    <tr>\n",
       "      <th>18</th>\n",
       "      <td>[0.043665, 0.046353, 0.085347, 0.070402, 0.116...</td>\n",
       "      <td>0</td>\n",
       "    </tr>\n",
       "    <tr>\n",
       "      <th>59</th>\n",
       "      <td>[0.465337, 0.067762, 0.068347, 0.064832, 0.069...</td>\n",
       "      <td>2</td>\n",
       "    </tr>\n",
       "    <tr>\n",
       "      <th>143</th>\n",
       "      <td>[0.621599, 0.065458, 0.060247, 0.065253, 0.071...</td>\n",
       "      <td>2</td>\n",
       "    </tr>\n",
       "    <tr>\n",
       "      <th>...</th>\n",
       "      <td>...</td>\n",
       "      <td>...</td>\n",
       "    </tr>\n",
       "    <tr>\n",
       "      <th>133</th>\n",
       "      <td>[0.582731, 0.063073, 0.068967, 0.071604, 0.052...</td>\n",
       "      <td>2</td>\n",
       "    </tr>\n",
       "    <tr>\n",
       "      <th>137</th>\n",
       "      <td>[0.598603, 0.050257, 0.050297, 0.045689, 0.059...</td>\n",
       "      <td>2</td>\n",
       "    </tr>\n",
       "    <tr>\n",
       "      <th>72</th>\n",
       "      <td>[0.486722, 0.034657, 0.032115, 0.036082, 0.039...</td>\n",
       "      <td>2</td>\n",
       "    </tr>\n",
       "    <tr>\n",
       "      <th>140</th>\n",
       "      <td>[0.63131, 0.04949, 0.049873, 0.052852, 0.04608...</td>\n",
       "      <td>1</td>\n",
       "    </tr>\n",
       "    <tr>\n",
       "      <th>37</th>\n",
       "      <td>[0.025553, 0.049748, 0.089849, 0.071686, 0.118...</td>\n",
       "      <td>0</td>\n",
       "    </tr>\n",
       "  </tbody>\n",
       "</table>\n",
       "<p>203 rows × 2 columns</p>\n",
       "</div>"
      ],
      "text/plain": [
       "                                               feature  multi_class_label\n",
       "175  [0.122505, 0.071583, 0.070109, 0.060757, 0.039...                  0\n",
       "176  [0.074648, 0.074276, 0.073163, 0.0695, 0.04317...                  0\n",
       "18   [0.043665, 0.046353, 0.085347, 0.070402, 0.116...                  0\n",
       "59   [0.465337, 0.067762, 0.068347, 0.064832, 0.069...                  2\n",
       "143  [0.621599, 0.065458, 0.060247, 0.065253, 0.071...                  2\n",
       "..                                                 ...                ...\n",
       "133  [0.582731, 0.063073, 0.068967, 0.071604, 0.052...                  2\n",
       "137  [0.598603, 0.050257, 0.050297, 0.045689, 0.059...                  2\n",
       "72   [0.486722, 0.034657, 0.032115, 0.036082, 0.039...                  2\n",
       "140  [0.63131, 0.04949, 0.049873, 0.052852, 0.04608...                  1\n",
       "37   [0.025553, 0.049748, 0.089849, 0.071686, 0.118...                  0\n",
       "\n",
       "[203 rows x 2 columns]"
      ]
     },
     "execution_count": 28,
     "metadata": {},
     "output_type": "execute_result"
    }
   ],
   "source": [
    "multi_class_df"
   ]
  },
  {
   "cell_type": "code",
   "execution_count": 29,
   "id": "82b06408",
   "metadata": {},
   "outputs": [],
   "source": [
    "train_val_pct = 0.5"
   ]
  },
  {
   "cell_type": "code",
   "execution_count": 30,
   "id": "9006b29b",
   "metadata": {},
   "outputs": [
    {
     "data": {
      "text/plain": [
       "array([[0.122505, 0.071583, 0.070109, ..., 0.      , 0.      , 0.      ],\n",
       "       [0.074648, 0.074276, 0.073163, ..., 0.      , 0.      , 0.      ],\n",
       "       [0.043665, 0.046353, 0.085347, ..., 0.      , 0.      , 0.      ],\n",
       "       ...,\n",
       "       [0.486722, 0.034657, 0.032115, ..., 0.      , 0.      , 0.      ],\n",
       "       [0.63131 , 0.04949 , 0.049873, ..., 0.      , 0.      , 0.      ],\n",
       "       [0.025553, 0.049748, 0.089849, ..., 0.      , 0.      , 0.      ]])"
      ]
     },
     "execution_count": 30,
     "metadata": {},
     "output_type": "execute_result"
    }
   ],
   "source": [
    "X_multi_class = np.array(multi_class_df.feature.to_list())\n",
    "X_multi_class"
   ]
  },
  {
   "cell_type": "code",
   "execution_count": 31,
   "id": "b34c6bac",
   "metadata": {},
   "outputs": [
    {
     "data": {
      "text/plain": [
       "((203, 175), (102, 175), (101, 175))"
      ]
     },
     "execution_count": 31,
     "metadata": {},
     "output_type": "execute_result"
    }
   ],
   "source": [
    "X_train_multi_class = X_multi_class[:round(train_val_pct * X_multi_class.shape[0]), :]\n",
    "X_val_multi_class = X_multi_class[round(train_val_pct * X_multi_class.shape[0]):, :]\n",
    "\n",
    "X_multi_class.shape, X_train_multi_class.shape, X_val_multi_class.shape"
   ]
  },
  {
   "cell_type": "code",
   "execution_count": 32,
   "id": "48a522e3",
   "metadata": {},
   "outputs": [
    {
     "data": {
      "text/plain": [
       "array([0, 0, 0, 2, 2, 0, 0, 0, 2, 0, 0, 0, 2, 2, 0, 2, 0, 0, 0, 2, 0, 2,\n",
       "       1, 0, 2, 0, 0, 0, 2, 0, 2, 0, 0, 0, 2, 2, 2, 2, 2, 2, 0, 0, 2, 0,\n",
       "       2, 2, 2, 0, 0, 2, 0, 0, 0, 2, 0, 0, 0, 2, 0, 0, 0, 0, 2, 0, 0, 2,\n",
       "       2, 0, 0, 0, 2, 0, 0, 0, 2, 2, 0, 2, 2, 0, 0, 2, 0, 2, 2, 2, 0, 0,\n",
       "       2, 2, 2, 0, 2, 0, 0, 0, 1, 0, 0, 0, 0, 2, 2, 0, 2, 0, 2, 0, 2, 2,\n",
       "       0, 2, 2, 2, 0, 2, 0, 2, 2, 2, 2, 0, 0, 2, 0, 0, 2, 2, 2, 0, 2, 2,\n",
       "       0, 0, 2, 2, 2, 2, 0, 2, 0, 0, 2, 2, 1, 2, 0, 2, 0, 0, 0, 2, 2, 0,\n",
       "       0, 2, 0, 0, 0, 0, 0, 2, 2, 0, 0, 2, 2, 0, 0, 2, 2, 0, 0, 0, 2, 2,\n",
       "       0, 0, 1, 2, 2, 2, 0, 2, 2, 2, 2, 2, 2, 0, 0, 0, 2, 2, 2, 2, 0, 2,\n",
       "       2, 2, 2, 1, 0])"
      ]
     },
     "execution_count": 32,
     "metadata": {},
     "output_type": "execute_result"
    }
   ],
   "source": [
    "y_multi_class = np.array(multi_class_df.multi_class_label.to_list())\n",
    "y_multi_class"
   ]
  },
  {
   "cell_type": "code",
   "execution_count": 33,
   "id": "fc42bac6",
   "metadata": {},
   "outputs": [
    {
     "data": {
      "text/plain": [
       "((203,), (102,), (101,))"
      ]
     },
     "execution_count": 33,
     "metadata": {},
     "output_type": "execute_result"
    }
   ],
   "source": [
    "y_train_multi_class = y_multi_class[:round(train_val_pct * y_multi_class.shape[0])]\n",
    "y_val_multi_class = y_multi_class[round(train_val_pct * y_multi_class.shape[0]):]\n",
    "\n",
    "y_multi_class.shape, y_train_multi_class.shape, y_val_multi_class.shape"
   ]
  },
  {
   "cell_type": "code",
   "execution_count": 34,
   "id": "819dfae0",
   "metadata": {},
   "outputs": [
    {
     "data": {
      "text/plain": [
       "array([0, 0, 0, 2, 2, 0, 0, 0, 2, 0, 0, 0, 2, 2, 0, 2, 0, 0, 0, 2, 0, 2,\n",
       "       1, 0, 2, 0, 0, 0, 2, 0, 2, 0, 0, 0, 2, 2, 2, 2, 2, 2, 0, 0, 2, 0,\n",
       "       2, 2, 2, 0, 0, 2, 0, 0, 0, 2, 0, 0, 0, 2, 0, 0, 0, 0, 2, 0, 0, 2,\n",
       "       2, 0, 0, 0, 2, 0, 0, 0, 2, 2, 0, 2, 2, 0, 0, 2, 0, 2, 2, 2, 0, 0,\n",
       "       2, 2, 2, 0, 2, 0, 0, 0, 1, 0, 0, 0, 0, 2])"
      ]
     },
     "execution_count": 34,
     "metadata": {},
     "output_type": "execute_result"
    }
   ],
   "source": [
    "y_train_multi_class"
   ]
  },
  {
   "cell_type": "code",
   "execution_count": 35,
   "id": "3349f19a",
   "metadata": {},
   "outputs": [],
   "source": [
    "def convert_label_to_one_hot(label):\n",
    "    one_hot_label = []\n",
    "    for l in label:\n",
    "        if l == 0:\n",
    "            one_hot_label.append([1, 0, 0])\n",
    "        elif l == 1:\n",
    "            one_hot_label.append([0, 1, 0])\n",
    "        elif l == 2:\n",
    "            one_hot_label.append([0, 0, 1])\n",
    "    return np.array(one_hot_label)"
   ]
  },
  {
   "cell_type": "code",
   "execution_count": 36,
   "id": "daeedb02",
   "metadata": {},
   "outputs": [
    {
     "data": {
      "text/plain": [
       "((102, 3), (101, 3))"
      ]
     },
     "execution_count": 36,
     "metadata": {},
     "output_type": "execute_result"
    }
   ],
   "source": [
    "y_train_multi_class_one_hot = convert_label_to_one_hot(y_train_multi_class)\n",
    "y_val_multi_class_one_hot = convert_label_to_one_hot(y_val_multi_class)\n",
    "\n",
    "y_train_multi_class_one_hot.shape, y_val_multi_class_one_hot.shape"
   ]
  },
  {
   "cell_type": "markdown",
   "id": "3ea2a956",
   "metadata": {},
   "source": [
    "# 3. Build and train simple Machine Learning model"
   ]
  },
  {
   "cell_type": "markdown",
   "id": "86a0359e",
   "metadata": {},
   "source": [
    "## 3.1. Binary classification data"
   ]
  },
  {
   "cell_type": "code",
   "execution_count": 37,
   "id": "c64111ef",
   "metadata": {},
   "outputs": [],
   "source": [
    "lr_binary_model = LogisticRegression()"
   ]
  },
  {
   "cell_type": "code",
   "execution_count": 38,
   "id": "cc6673b4",
   "metadata": {},
   "outputs": [
    {
     "data": {
      "text/plain": [
       "LogisticRegression()"
      ]
     },
     "execution_count": 38,
     "metadata": {},
     "output_type": "execute_result"
    }
   ],
   "source": [
    "lr_binary_model.fit(X_train_binary, y_train_binary)"
   ]
  },
  {
   "cell_type": "code",
   "execution_count": 39,
   "id": "c46703b6",
   "metadata": {},
   "outputs": [
    {
     "data": {
      "text/plain": [
       "array([0, 1, 0, 1, 1, 1, 1, 1, 1, 0, 0, 0, 0, 0, 0, 1, 1, 0, 0, 0, 0, 1,\n",
       "       0, 0, 1, 1, 0, 1, 0, 0, 0, 0, 0, 1, 0, 0, 1, 1, 1, 1, 0, 0, 1, 1,\n",
       "       0, 0, 1, 0, 0, 0, 0, 1, 1, 0, 1, 0, 1, 0, 0, 0, 0, 1, 1, 1, 0, 1,\n",
       "       0, 1, 1, 1, 1, 0, 1, 1, 0, 0, 1, 1, 1, 1, 1, 0, 0, 0, 1, 1, 1, 1,\n",
       "       0, 1, 0, 0, 1, 1, 1, 1, 0, 1, 0, 0, 0, 1, 1, 0, 0, 1, 0, 0, 0, 0,\n",
       "       0, 1, 1, 0, 0, 1, 1, 0, 0, 1, 1, 0, 0, 0, 1, 1, 0, 0, 1, 1, 1, 1,\n",
       "       0, 1, 1, 1, 1, 1, 1, 0, 0, 0, 1, 1, 1, 1, 0, 1, 1, 1, 1, 1, 0])"
      ]
     },
     "execution_count": 39,
     "metadata": {},
     "output_type": "execute_result"
    }
   ],
   "source": [
    "y_pred_binary = lr_binary_model.predict(X_val_binary)\n",
    "y_pred_binary"
   ]
  },
  {
   "cell_type": "code",
   "execution_count": 40,
   "id": "d82a31e8",
   "metadata": {},
   "outputs": [
    {
     "data": {
      "text/plain": [
       "array([0, 1, 0, 1, 1, 1, 1, 1, 1, 0, 0, 0, 0, 0, 0, 1, 1, 0, 0, 0, 0, 1,\n",
       "       0, 0, 1, 1, 0, 1, 0, 0, 0, 0, 0, 1, 0, 0, 1, 1, 1, 1, 0, 0, 1, 1,\n",
       "       0, 0, 1, 0, 0, 0, 0, 1, 1, 0, 1, 0, 1, 0, 1, 0, 0, 1, 1, 1, 0, 1,\n",
       "       0, 1, 1, 1, 1, 0, 1, 1, 0, 0, 1, 1, 1, 1, 1, 0, 0, 0, 1, 1, 1, 1,\n",
       "       0, 1, 0, 0, 1, 1, 1, 1, 0, 1, 0, 0, 0, 1, 1, 0, 0, 1, 0, 0, 0, 0,\n",
       "       0, 1, 1, 0, 0, 1, 1, 0, 0, 1, 1, 0, 0, 0, 1, 1, 0, 0, 1, 1, 1, 1,\n",
       "       0, 1, 1, 1, 1, 1, 1, 0, 0, 0, 1, 1, 1, 1, 0, 1, 1, 1, 1, 1, 0])"
      ]
     },
     "execution_count": 40,
     "metadata": {},
     "output_type": "execute_result"
    }
   ],
   "source": [
    "y_val_binary"
   ]
  },
  {
   "cell_type": "code",
   "execution_count": 41,
   "id": "0c90da2a",
   "metadata": {},
   "outputs": [
    {
     "name": "stdout",
     "output_type": "stream",
     "text": [
      "              precision    recall  f1-score   support\n",
      "\n",
      "           0       0.99      1.00      0.99        72\n",
      "           1       1.00      0.99      0.99        81\n",
      "\n",
      "    accuracy                           0.99       153\n",
      "   macro avg       0.99      0.99      0.99       153\n",
      "weighted avg       0.99      0.99      0.99       153\n",
      "\n"
     ]
    }
   ],
   "source": [
    "print(classification_report(y_val_binary, y_pred_binary))"
   ]
  },
  {
   "cell_type": "markdown",
   "id": "79ba96f1",
   "metadata": {},
   "source": [
    "## 3.2. Multi-class classification data"
   ]
  },
  {
   "cell_type": "code",
   "execution_count": 42,
   "id": "874d30a0",
   "metadata": {},
   "outputs": [],
   "source": [
    "lr_multi_class_model = LogisticRegression(class_weight='balanced')"
   ]
  },
  {
   "cell_type": "code",
   "execution_count": 43,
   "id": "d9dc7aba",
   "metadata": {},
   "outputs": [
    {
     "data": {
      "text/plain": [
       "LogisticRegression(class_weight='balanced')"
      ]
     },
     "execution_count": 43,
     "metadata": {},
     "output_type": "execute_result"
    }
   ],
   "source": [
    "lr_multi_class_model.fit(X_train_multi_class, y_train_multi_class)"
   ]
  },
  {
   "cell_type": "code",
   "execution_count": 44,
   "id": "b1b34c70",
   "metadata": {},
   "outputs": [
    {
     "data": {
      "text/plain": [
       "array([2, 0, 2, 0, 2, 0, 2, 2, 0, 2, 2, 2, 0, 2, 0, 2, 2, 2, 2, 0, 0, 2,\n",
       "       0, 0, 2, 2, 2, 0, 2, 1, 0, 0, 2, 1, 2, 1, 0, 2, 0, 0, 1, 1, 2, 2,\n",
       "       0, 2, 0, 0, 0, 1, 2, 0, 0, 2, 0, 0, 0, 0, 0, 2, 2, 0, 0, 1, 2, 0,\n",
       "       0, 2, 2, 0, 0, 0, 2, 2, 0, 0, 2, 2, 2, 2, 0, 2, 2, 2, 2, 1, 1, 0,\n",
       "       0, 0, 2, 2, 2, 1, 0, 2, 2, 1, 2, 1, 0])"
      ]
     },
     "execution_count": 44,
     "metadata": {},
     "output_type": "execute_result"
    }
   ],
   "source": [
    "y_pred_multi_class = lr_multi_class_model.predict(X_val_multi_class)\n",
    "y_pred_multi_class"
   ]
  },
  {
   "cell_type": "code",
   "execution_count": 45,
   "id": "19cc37d7",
   "metadata": {},
   "outputs": [
    {
     "data": {
      "text/plain": [
       "array([2, 0, 2, 0, 2, 0, 2, 2, 0, 2, 2, 2, 0, 2, 0, 2, 2, 2, 2, 0, 0, 2,\n",
       "       0, 0, 2, 2, 2, 0, 2, 2, 0, 0, 2, 2, 2, 2, 0, 2, 0, 0, 2, 2, 1, 2,\n",
       "       0, 2, 0, 0, 0, 2, 2, 0, 0, 2, 0, 0, 0, 0, 0, 2, 2, 0, 0, 2, 2, 0,\n",
       "       0, 2, 2, 0, 0, 0, 2, 2, 0, 0, 1, 2, 2, 2, 0, 2, 2, 2, 2, 2, 2, 0,\n",
       "       0, 0, 2, 2, 2, 2, 0, 2, 2, 2, 2, 1, 0])"
      ]
     },
     "execution_count": 45,
     "metadata": {},
     "output_type": "execute_result"
    }
   ],
   "source": [
    "y_val_multi_class"
   ]
  },
  {
   "cell_type": "code",
   "execution_count": 46,
   "id": "e92d3fd6",
   "metadata": {},
   "outputs": [
    {
     "name": "stdout",
     "output_type": "stream",
     "text": [
      "              precision    recall  f1-score   support\n",
      "\n",
      "           0       1.00      1.00      1.00        42\n",
      "           1       0.08      0.33      0.13         3\n",
      "           2       0.96      0.80      0.87        56\n",
      "\n",
      "    accuracy                           0.87       101\n",
      "   macro avg       0.68      0.71      0.67       101\n",
      "weighted avg       0.95      0.87      0.90       101\n",
      "\n"
     ]
    }
   ],
   "source": [
    "print(classification_report(y_val_multi_class, y_pred_multi_class))"
   ]
  },
  {
   "cell_type": "markdown",
   "id": "05b8a351",
   "metadata": {},
   "source": [
    "# 4. Build and train simple Neural Network model"
   ]
  },
  {
   "cell_type": "markdown",
   "id": "3510a0f2",
   "metadata": {},
   "source": [
    "## 4.1. Binary classification data"
   ]
  },
  {
   "cell_type": "code",
   "execution_count": 47,
   "id": "40cf8d8f",
   "metadata": {},
   "outputs": [],
   "source": [
    "n_units = 1\n",
    "lr = 0.5 # 0.0001 => 0.01 => 0.1\n",
    "batch_size = 2\n",
    "n_epoch = 50"
   ]
  },
  {
   "cell_type": "code",
   "execution_count": 48,
   "id": "542c5011",
   "metadata": {},
   "outputs": [
    {
     "name": "stdout",
     "output_type": "stream",
     "text": [
      "Model: \"sequential\"\n",
      "_________________________________________________________________\n",
      "Layer (type)                 Output Shape              Param #   \n",
      "=================================================================\n",
      "dense (Dense)                (None, 1)                 176       \n",
      "=================================================================\n",
      "Total params: 176\n",
      "Trainable params: 176\n",
      "Non-trainable params: 0\n",
      "_________________________________________________________________\n"
     ]
    },
    {
     "name": "stderr",
     "output_type": "stream",
     "text": [
      "2023-04-15 13:43:30.289533: I tensorflow/core/platform/cpu_feature_guard.cc:142] This TensorFlow binary is optimized with oneAPI Deep Neural Network Library (oneDNN) to use the following CPU instructions in performance-critical operations:  SSE4.1 SSE4.2 AVX AVX2 AVX512F FMA\n",
      "To enable them in other operations, rebuild TensorFlow with the appropriate compiler flags.\n"
     ]
    }
   ],
   "source": [
    "nn_binary_model = Sequential([\n",
    "    Dense(input_dim=max_len_feature, units=n_units, activation='sigmoid')\n",
    "])\n",
    "nn_binary_model.summary()"
   ]
  },
  {
   "cell_type": "code",
   "execution_count": 49,
   "id": "e4f82fe9",
   "metadata": {},
   "outputs": [],
   "source": [
    "bce_loss = BinaryCrossentropy()"
   ]
  },
  {
   "cell_type": "code",
   "execution_count": 50,
   "id": "b7b799b0",
   "metadata": {},
   "outputs": [],
   "source": [
    "sgd_opt = SGD(learning_rate=lr)"
   ]
  },
  {
   "cell_type": "code",
   "execution_count": 51,
   "id": "d7eb2e70",
   "metadata": {},
   "outputs": [],
   "source": [
    "nn_binary_model.compile(loss=bce_loss, optimizer=sgd_opt)"
   ]
  },
  {
   "cell_type": "code",
   "execution_count": 52,
   "id": "69befe55",
   "metadata": {
    "scrolled": true
   },
   "outputs": [
    {
     "name": "stdout",
     "output_type": "stream",
     "text": [
      "Epoch 1/50\n"
     ]
    },
    {
     "name": "stderr",
     "output_type": "stream",
     "text": [
      "2023-04-15 13:43:30.395103: I tensorflow/compiler/mlir/mlir_graph_optimization_pass.cc:116] None of the MLIR optimization passes are enabled (registered 2)\n"
     ]
    },
    {
     "name": "stdout",
     "output_type": "stream",
     "text": [
      "26/26 [==============================] - 1s 40ms/step - loss: 0.5914 - val_loss: 0.1432\n",
      "Epoch 2/50\n",
      "26/26 [==============================] - 0s 3ms/step - loss: 0.0807 - val_loss: 0.1009\n",
      "Epoch 3/50\n",
      "26/26 [==============================] - 0s 4ms/step - loss: 0.0546 - val_loss: 0.1179\n",
      "Epoch 4/50\n",
      "26/26 [==============================] - 0s 3ms/step - loss: 0.0464 - val_loss: 0.0935\n",
      "Epoch 5/50\n",
      "26/26 [==============================] - 0s 3ms/step - loss: 0.0273 - val_loss: 0.0792\n",
      "Epoch 6/50\n",
      "26/26 [==============================] - 0s 3ms/step - loss: 0.0235 - val_loss: 0.0732\n",
      "Epoch 7/50\n",
      "26/26 [==============================] - 0s 3ms/step - loss: 0.0188 - val_loss: 0.0703\n",
      "Epoch 8/50\n",
      "26/26 [==============================] - 0s 3ms/step - loss: 0.0144 - val_loss: 0.0963\n",
      "Epoch 9/50\n",
      "26/26 [==============================] - 0s 3ms/step - loss: 0.0138 - val_loss: 0.0617\n",
      "Epoch 10/50\n",
      "26/26 [==============================] - 0s 3ms/step - loss: 0.0155 - val_loss: 0.0595\n",
      "Epoch 11/50\n",
      "26/26 [==============================] - 0s 3ms/step - loss: 0.0154 - val_loss: 0.0575\n",
      "Epoch 12/50\n",
      "26/26 [==============================] - 0s 3ms/step - loss: 0.0159 - val_loss: 0.0562\n",
      "Epoch 13/50\n",
      "26/26 [==============================] - 0s 3ms/step - loss: 0.0113 - val_loss: 0.0566\n",
      "Epoch 14/50\n",
      "26/26 [==============================] - 0s 4ms/step - loss: 0.0110 - val_loss: 0.0548\n",
      "Epoch 15/50\n",
      "26/26 [==============================] - 0s 4ms/step - loss: 0.0084 - val_loss: 0.0552\n",
      "Epoch 16/50\n",
      "26/26 [==============================] - 0s 3ms/step - loss: 0.0095 - val_loss: 0.0549\n",
      "Epoch 17/50\n",
      "26/26 [==============================] - 0s 3ms/step - loss: 0.0079 - val_loss: 0.0514\n",
      "Epoch 18/50\n",
      "26/26 [==============================] - 0s 3ms/step - loss: 0.0056 - val_loss: 0.0497\n",
      "Epoch 19/50\n",
      "26/26 [==============================] - 0s 3ms/step - loss: 0.0063 - val_loss: 0.0482\n",
      "Epoch 20/50\n",
      "26/26 [==============================] - 0s 3ms/step - loss: 0.0066 - val_loss: 0.0487\n",
      "Epoch 21/50\n",
      "26/26 [==============================] - 0s 3ms/step - loss: 0.0083 - val_loss: 0.0487\n",
      "Epoch 22/50\n",
      "26/26 [==============================] - 0s 3ms/step - loss: 0.0052 - val_loss: 0.0480\n",
      "Epoch 23/50\n",
      "26/26 [==============================] - 0s 3ms/step - loss: 0.0058 - val_loss: 0.0477\n",
      "Epoch 24/50\n",
      "26/26 [==============================] - 0s 3ms/step - loss: 0.0062 - val_loss: 0.0468\n",
      "Epoch 25/50\n",
      "26/26 [==============================] - 0s 3ms/step - loss: 0.0087 - val_loss: 0.0446\n",
      "Epoch 26/50\n",
      "26/26 [==============================] - 0s 3ms/step - loss: 0.0044 - val_loss: 0.0444\n",
      "Epoch 27/50\n",
      "26/26 [==============================] - 0s 3ms/step - loss: 0.0075 - val_loss: 0.0435\n",
      "Epoch 28/50\n",
      "26/26 [==============================] - 0s 3ms/step - loss: 0.0044 - val_loss: 0.0426\n",
      "Epoch 29/50\n",
      "26/26 [==============================] - 0s 3ms/step - loss: 0.0056 - val_loss: 0.0430\n",
      "Epoch 30/50\n",
      "26/26 [==============================] - 0s 3ms/step - loss: 0.0049 - val_loss: 0.0428\n",
      "Epoch 31/50\n",
      "26/26 [==============================] - 0s 3ms/step - loss: 0.0051 - val_loss: 0.0417\n",
      "Epoch 32/50\n",
      "26/26 [==============================] - 0s 3ms/step - loss: 0.0050 - val_loss: 0.0413\n",
      "Epoch 33/50\n",
      "26/26 [==============================] - 0s 3ms/step - loss: 0.0045 - val_loss: 0.0394\n",
      "Epoch 34/50\n",
      "26/26 [==============================] - 0s 3ms/step - loss: 0.0040 - val_loss: 0.0396\n",
      "Epoch 35/50\n",
      "26/26 [==============================] - 0s 3ms/step - loss: 0.0030 - val_loss: 0.0393\n",
      "Epoch 36/50\n",
      "26/26 [==============================] - 0s 3ms/step - loss: 0.0053 - val_loss: 0.0389\n",
      "Epoch 37/50\n",
      "26/26 [==============================] - 0s 3ms/step - loss: 0.0039 - val_loss: 0.0382\n",
      "Epoch 38/50\n",
      "26/26 [==============================] - 0s 3ms/step - loss: 0.0044 - val_loss: 0.0381\n",
      "Epoch 39/50\n",
      "26/26 [==============================] - 0s 3ms/step - loss: 0.0035 - val_loss: 0.0382\n",
      "Epoch 40/50\n",
      "26/26 [==============================] - 0s 3ms/step - loss: 0.0025 - val_loss: 0.0383\n",
      "Epoch 41/50\n",
      "26/26 [==============================] - 0s 3ms/step - loss: 0.0042 - val_loss: 0.0380\n",
      "Epoch 42/50\n",
      "26/26 [==============================] - 0s 3ms/step - loss: 0.0030 - val_loss: 0.0376\n",
      "Epoch 43/50\n",
      "26/26 [==============================] - 0s 4ms/step - loss: 0.0042 - val_loss: 0.0370\n",
      "Epoch 44/50\n",
      "26/26 [==============================] - 0s 4ms/step - loss: 0.0033 - val_loss: 0.0373\n",
      "Epoch 45/50\n",
      "26/26 [==============================] - 0s 4ms/step - loss: 0.0036 - val_loss: 0.0365\n",
      "Epoch 46/50\n",
      "26/26 [==============================] - 0s 4ms/step - loss: 0.0032 - val_loss: 0.0361\n",
      "Epoch 47/50\n",
      "26/26 [==============================] - 0s 3ms/step - loss: 0.0037 - val_loss: 0.0361\n",
      "Epoch 48/50\n",
      "26/26 [==============================] - 0s 3ms/step - loss: 0.0030 - val_loss: 0.0361\n",
      "Epoch 49/50\n",
      "26/26 [==============================] - 0s 3ms/step - loss: 0.0031 - val_loss: 0.0357\n",
      "Epoch 50/50\n",
      "26/26 [==============================] - 0s 3ms/step - loss: 0.0033 - val_loss: 0.0353\n"
     ]
    }
   ],
   "source": [
    "history_binary = nn_binary_model.fit(\n",
    "    x=X_train_binary,\n",
    "    y=y_train_binary,\n",
    "    batch_size=batch_size,\n",
    "    epochs=n_epoch,\n",
    "    validation_data=(X_val_binary, y_val_binary),\n",
    "    shuffle=True,\n",
    "    validation_batch_size=batch_size,\n",
    "#     callbacks=[checkpoint, reduce_lr]\n",
    ")"
   ]
  },
  {
   "cell_type": "code",
   "execution_count": 53,
   "id": "226657c5",
   "metadata": {
    "scrolled": true
   },
   "outputs": [],
   "source": [
    "train_binary_loss = history_binary.history['loss']\n",
    "# train_binary_loss"
   ]
  },
  {
   "cell_type": "code",
   "execution_count": 54,
   "id": "1d602987",
   "metadata": {},
   "outputs": [],
   "source": [
    "val_binary_loss = history_binary.history['val_loss']\n",
    "# val_binary_loss"
   ]
  },
  {
   "cell_type": "code",
   "execution_count": 55,
   "id": "9bff71b0",
   "metadata": {},
   "outputs": [
    {
     "data": {
      "image/png": "[encoded data removed]",
      "text/plain": [
       "<Figure size 432x288 with 1 Axes>"
      ]
     },
     "metadata": {
      "needs_background": "light"
     },
     "output_type": "display_data"
    }
   ],
   "source": [
    "sns.lineplot(x=range(n_epoch), y=train_binary_loss)\n",
    "plt.title('Train loss')\n",
    "plt.show()"
   ]
  },
  {
   "cell_type": "code",
   "execution_count": 56,
   "id": "c95dad77",
   "metadata": {},
   "outputs": [
    {
     "data": {
      "image/png": "[encoded data removed]",
      "text/plain": [
       "<Figure size 432x288 with 1 Axes>"
      ]
     },
     "metadata": {
      "needs_background": "light"
     },
     "output_type": "display_data"
    }
   ],
   "source": [
    "sns.lineplot(x=range(n_epoch), y=val_binary_loss)\n",
    "plt.title('Val loss')\n",
    "plt.show()"
   ]
  },
  {
   "cell_type": "code",
   "execution_count": 57,
   "id": "e2ce4ec9",
   "metadata": {
    "scrolled": true
   },
   "outputs": [
    {
     "data": {
      "text/plain": [
       "array([[3.8731098e-04],\n",
       "       [9.5944828e-01],\n",
       "       [1.1903346e-03],\n",
       "       [9.9836320e-01],\n",
       "       [9.7703016e-01],\n",
       "       [9.9809706e-01],\n",
       "       [9.8096508e-01],\n",
       "       [9.7929645e-01],\n",
       "       [9.8690879e-01],\n",
       "       [9.3632936e-04],\n",
       "       [3.4987628e-03],\n",
       "       [2.8196871e-03],\n",
       "       [5.8688819e-03],\n",
       "       [6.9940090e-04],\n",
       "       [5.7672560e-03],\n",
       "       [9.6597630e-01],\n",
       "       [9.9067771e-01],\n",
       "       [6.4587295e-03],\n",
       "       [9.6833706e-04],\n",
       "       [7.4210763e-04],\n",
       "       [1.9010305e-03],\n",
       "       [9.9224710e-01],\n",
       "       [4.4054389e-03],\n",
       "       [6.1583519e-04],\n",
       "       [9.7070158e-01],\n",
       "       [9.7490346e-01],\n",
       "       [2.0167640e-01],\n",
       "       [9.2943203e-01],\n",
       "       [9.3847513e-04],\n",
       "       [1.1547506e-03],\n",
       "       [4.2524040e-03],\n",
       "       [1.3895929e-03],\n",
       "       [8.9231133e-04],\n",
       "       [9.7673213e-01],\n",
       "       [1.3635159e-03],\n",
       "       [8.9725852e-04],\n",
       "       [9.9912411e-01],\n",
       "       [9.7392321e-01],\n",
       "       [9.1452265e-01],\n",
       "       [9.9903905e-01],\n",
       "       [1.7581582e-03],\n",
       "       [5.9610605e-04],\n",
       "       [9.6780819e-01],\n",
       "       [9.9937987e-01],\n",
       "       [8.6340308e-04],\n",
       "       [1.3992190e-03],\n",
       "       [9.2370355e-01],\n",
       "       [1.2232363e-03],\n",
       "       [2.8358102e-03],\n",
       "       [8.1956387e-04],\n",
       "       [1.3880730e-03],\n",
       "       [9.9187195e-01],\n",
       "       [5.7121664e-01],\n",
       "       [1.5651286e-03],\n",
       "       [9.9907422e-01],\n",
       "       [2.4660826e-03],\n",
       "       [9.9907953e-01],\n",
       "       [1.1927485e-03],\n",
       "       [3.8454407e-01],\n",
       "       [6.3043833e-04],\n",
       "       [1.1641085e-03],\n",
       "       [9.9530888e-01],\n",
       "       [9.9881542e-01],\n",
       "       [9.8923123e-01],\n",
       "       [2.2464004e-01],\n",
       "       [9.9148643e-01],\n",
       "       [8.0105662e-04],\n",
       "       [8.9364010e-01],\n",
       "       [9.0717286e-01],\n",
       "       [9.9917865e-01],\n",
       "       [9.7750771e-01],\n",
       "       [2.6527047e-04],\n",
       "       [9.9905652e-01],\n",
       "       [9.4141096e-01],\n",
       "       [1.6265810e-03],\n",
       "       [1.3841093e-03],\n",
       "       [9.8477900e-01],\n",
       "       [9.3240702e-01],\n",
       "       [5.6120569e-01],\n",
       "       [9.9930406e-01],\n",
       "       [9.2822886e-01],\n",
       "       [8.4191561e-04],\n",
       "       [6.9804192e-03],\n",
       "       [1.0919869e-03],\n",
       "       [9.7404253e-01],\n",
       "       [9.9265891e-01],\n",
       "       [8.7535387e-01],\n",
       "       [9.9477261e-01],\n",
       "       [4.5851469e-03],\n",
       "       [9.9738979e-01],\n",
       "       [1.3445616e-03],\n",
       "       [5.4137409e-03],\n",
       "       [9.9287760e-01],\n",
       "       [9.9969363e-01],\n",
       "       [9.9482822e-01],\n",
       "       [9.9940425e-01],\n",
       "       [4.4052601e-03],\n",
       "       [9.9885553e-01],\n",
       "       [2.2661686e-04],\n",
       "       [5.3136051e-03],\n",
       "       [7.9706311e-04],\n",
       "       [9.8426712e-01],\n",
       "       [7.8155768e-01],\n",
       "       [4.6965480e-04],\n",
       "       [1.3877153e-03],\n",
       "       [9.7055674e-01],\n",
       "       [2.5524300e-01],\n",
       "       [1.6494393e-03],\n",
       "       [2.2305250e-03],\n",
       "       [2.0558536e-03],\n",
       "       [3.2610893e-03],\n",
       "       [9.4444931e-01],\n",
       "       [9.9947381e-01],\n",
       "       [1.2733340e-03],\n",
       "       [1.0581315e-03],\n",
       "       [9.8420101e-01],\n",
       "       [9.9882507e-01],\n",
       "       [1.1143088e-03],\n",
       "       [7.4255466e-04],\n",
       "       [9.9795169e-01],\n",
       "       [9.9931329e-01],\n",
       "       [1.3743937e-03],\n",
       "       [1.3058186e-03],\n",
       "       [4.7416151e-02],\n",
       "       [9.9024284e-01],\n",
       "       [9.6763957e-01],\n",
       "       [4.2575598e-04],\n",
       "       [3.5612106e-02],\n",
       "       [9.9788725e-01],\n",
       "       [9.9995601e-01],\n",
       "       [9.9934852e-01],\n",
       "       [9.9422842e-01],\n",
       "       [2.7936101e-03],\n",
       "       [9.9958593e-01],\n",
       "       [9.9895108e-01],\n",
       "       [9.9895489e-01],\n",
       "       [6.7354709e-01],\n",
       "       [9.8703504e-01],\n",
       "       [9.8924971e-01],\n",
       "       [4.2113662e-04],\n",
       "       [2.3826361e-03],\n",
       "       [1.1352003e-03],\n",
       "       [9.9866569e-01],\n",
       "       [9.9840355e-01],\n",
       "       [9.0396345e-01],\n",
       "       [9.6796083e-01],\n",
       "       [2.5905967e-03],\n",
       "       [9.9983066e-01],\n",
       "       [9.9885213e-01],\n",
       "       [9.8581350e-01],\n",
       "       [9.2481846e-01],\n",
       "       [9.8991692e-01],\n",
       "       [6.3785911e-04]], dtype=float32)"
      ]
     },
     "execution_count": 57,
     "metadata": {},
     "output_type": "execute_result"
    }
   ],
   "source": [
    "y_pred_binary_proba = nn_binary_model.predict(X_val_binary)\n",
    "y_pred_binary_proba"
   ]
  },
  {
   "cell_type": "markdown",
   "id": "4b7e8866",
   "metadata": {},
   "source": [
    "Acc = pred_true / (pred_true + pred_false) => all classes\n",
    "\n",
    "Pre = pred_1 / (pred_1 + pred_0) => class 1\n",
    "\n",
    "Rec = pred_1 / (pred_1 + label_1) => class 1\n",
    "\n",
    "F1 => Pre <=> Rec"
   ]
  },
  {
   "cell_type": "code",
   "execution_count": 58,
   "id": "6c45027d",
   "metadata": {},
   "outputs": [],
   "source": [
    "confidence_threshold = 0.5"
   ]
  },
  {
   "cell_type": "code",
   "execution_count": 59,
   "id": "7debb4db",
   "metadata": {},
   "outputs": [
    {
     "data": {
      "text/plain": [
       "array([0, 1, 0, 1, 1, 1, 1, 1, 1, 0, 0, 0, 0, 0, 0, 1, 1, 0, 0, 0, 0, 1,\n",
       "       0, 0, 1, 1, 0, 1, 0, 0, 0, 0, 0, 1, 0, 0, 1, 1, 1, 1, 0, 0, 1, 1,\n",
       "       0, 0, 1, 0, 0, 0, 0, 1, 1, 0, 1, 0, 1, 0, 0, 0, 0, 1, 1, 1, 0, 1,\n",
       "       0, 1, 1, 1, 1, 0, 1, 1, 0, 0, 1, 1, 1, 1, 1, 0, 0, 0, 1, 1, 1, 1,\n",
       "       0, 1, 0, 0, 1, 1, 1, 1, 0, 1, 0, 0, 0, 1, 1, 0, 0, 1, 0, 0, 0, 0,\n",
       "       0, 1, 1, 0, 0, 1, 1, 0, 0, 1, 1, 0, 0, 0, 1, 1, 0, 0, 1, 1, 1, 1,\n",
       "       0, 1, 1, 1, 1, 1, 1, 0, 0, 0, 1, 1, 1, 1, 0, 1, 1, 1, 1, 1, 0])"
      ]
     },
     "execution_count": 59,
     "metadata": {},
     "output_type": "execute_result"
    }
   ],
   "source": [
    "y_pred_binary = np.where(y_pred_binary_proba > confidence_threshold, 1, 0)\n",
    "y_pred_binary = y_pred_binary.squeeze()\n",
    "y_pred_binary"
   ]
  },
  {
   "cell_type": "code",
   "execution_count": 60,
   "id": "84675cf0",
   "metadata": {},
   "outputs": [
    {
     "name": "stdout",
     "output_type": "stream",
     "text": [
      "              precision    recall  f1-score   support\n",
      "\n",
      "           0       0.99      1.00      0.99        72\n",
      "           1       1.00      0.99      0.99        81\n",
      "\n",
      "    accuracy                           0.99       153\n",
      "   macro avg       0.99      0.99      0.99       153\n",
      "weighted avg       0.99      0.99      0.99       153\n",
      "\n"
     ]
    }
   ],
   "source": [
    "print(classification_report(y_val_binary, y_pred_binary))"
   ]
  },
  {
   "cell_type": "markdown",
   "id": "5a8855de",
   "metadata": {},
   "source": [
    "## 4.2. Multi-class classification data"
   ]
  },
  {
   "cell_type": "code",
   "execution_count": 61,
   "id": "400b2b9d",
   "metadata": {},
   "outputs": [],
   "source": [
    "n_units = 3\n",
    "lr = 0.1 # 0.0001 => 0.01 => 0.1\n",
    "batch_size = 2\n",
    "n_epoch = 50"
   ]
  },
  {
   "cell_type": "code",
   "execution_count": 62,
   "id": "ad4c8cfd",
   "metadata": {},
   "outputs": [
    {
     "name": "stdout",
     "output_type": "stream",
     "text": [
      "Model: \"sequential_1\"\n",
      "_________________________________________________________________\n",
      "Layer (type)                 Output Shape              Param #   \n",
      "=================================================================\n",
      "dense_1 (Dense)              (None, 3)                 528       \n",
      "=================================================================\n",
      "Total params: 528\n",
      "Trainable params: 528\n",
      "Non-trainable params: 0\n",
      "_________________________________________________________________\n"
     ]
    }
   ],
   "source": [
    "nn_multi_class_model = Sequential([\n",
    "    Dense(input_dim=max_len_feature, units=n_units, activation='softmax')\n",
    "])\n",
    "nn_multi_class_model.summary()"
   ]
  },
  {
   "cell_type": "code",
   "execution_count": 63,
   "id": "15cd0ada",
   "metadata": {},
   "outputs": [],
   "source": [
    "ce_loss = CategoricalCrossentropy()"
   ]
  },
  {
   "cell_type": "code",
   "execution_count": 64,
   "id": "8c7053b2",
   "metadata": {},
   "outputs": [],
   "source": [
    "sgd_opt = SGD(learning_rate=lr)"
   ]
  },
  {
   "cell_type": "code",
   "execution_count": 65,
   "id": "0a3911c7",
   "metadata": {},
   "outputs": [],
   "source": [
    "nn_multi_class_model.compile(loss=ce_loss, optimizer=sgd_opt)"
   ]
  },
  {
   "cell_type": "code",
   "execution_count": 66,
   "id": "ab54b443",
   "metadata": {},
   "outputs": [],
   "source": [
    "reduce_lr = ReduceLROnPlateau(\n",
    "    monitor='val_loss',\n",
    "    factor=0.1,\n",
    "    patience=2,\n",
    "    min_lr=1e-10\n",
    ")"
   ]
  },
  {
   "cell_type": "code",
   "execution_count": 67,
   "id": "b61c5a8c",
   "metadata": {},
   "outputs": [],
   "source": [
    "os.makedirs('lg_innotek_ok_ng_model', exist_ok=True)\n",
    "checkpoint = ModelCheckpoint('lg_innotek_ok_ng_model/model_multi_class_{epoch:02d}.h5')"
   ]
  },
  {
   "cell_type": "code",
   "execution_count": 68,
   "id": "61b66b4b",
   "metadata": {
    "scrolled": false
   },
   "outputs": [
    {
     "name": "stdout",
     "output_type": "stream",
     "text": [
      "Epoch 1/50\n",
      "51/51 [==============================] - 0s 4ms/step - loss: 1.0633 - val_loss: 0.2885\n",
      "Epoch 2/50\n",
      "51/51 [==============================] - 0s 2ms/step - loss: 0.5415 - val_loss: 0.2443\n",
      "Epoch 3/50\n",
      "51/51 [==============================] - 0s 3ms/step - loss: 0.2510 - val_loss: 0.3653\n",
      "Epoch 4/50\n",
      "51/51 [==============================] - 0s 2ms/step - loss: 0.3456 - val_loss: 0.2738\n",
      "Epoch 5/50\n",
      "51/51 [==============================] - 0s 2ms/step - loss: 0.1324 - val_loss: 0.2719\n",
      "Epoch 6/50\n",
      "51/51 [==============================] - 0s 2ms/step - loss: 0.3105 - val_loss: 0.2738\n",
      "Epoch 7/50\n",
      "51/51 [==============================] - 0s 2ms/step - loss: 0.1617 - val_loss: 0.2739\n",
      "Epoch 8/50\n",
      "51/51 [==============================] - 0s 2ms/step - loss: 0.2144 - val_loss: 0.2738\n",
      "Epoch 9/50\n",
      "51/51 [==============================] - 0s 2ms/step - loss: 0.1401 - val_loss: 0.2738\n",
      "Epoch 10/50\n",
      "51/51 [==============================] - 0s 2ms/step - loss: 0.2741 - val_loss: 0.2738\n",
      "Epoch 11/50\n",
      "51/51 [==============================] - 0s 2ms/step - loss: 0.1198 - val_loss: 0.2738\n",
      "Epoch 12/50\n",
      "51/51 [==============================] - 0s 2ms/step - loss: 0.2703 - val_loss: 0.2738\n",
      "Epoch 13/50\n",
      "51/51 [==============================] - 0s 2ms/step - loss: 0.1179 - val_loss: 0.2738\n",
      "Epoch 14/50\n",
      "51/51 [==============================] - 0s 2ms/step - loss: 0.1070 - val_loss: 0.2738\n",
      "Epoch 15/50\n",
      "51/51 [==============================] - 0s 2ms/step - loss: 0.2415 - val_loss: 0.2738\n",
      "Epoch 16/50\n",
      "51/51 [==============================] - 0s 2ms/step - loss: 0.1783 - val_loss: 0.2738\n",
      "Epoch 17/50\n",
      "51/51 [==============================] - 0s 2ms/step - loss: 0.1247 - val_loss: 0.2738\n",
      "Epoch 18/50\n",
      "51/51 [==============================] - 0s 2ms/step - loss: 0.1500 - val_loss: 0.2738\n",
      "Epoch 19/50\n",
      "51/51 [==============================] - 0s 2ms/step - loss: 0.1556 - val_loss: 0.2738\n",
      "Epoch 20/50\n",
      "51/51 [==============================] - 0s 2ms/step - loss: 0.1290 - val_loss: 0.2738\n",
      "Epoch 21/50\n",
      "51/51 [==============================] - 0s 2ms/step - loss: 0.1495 - val_loss: 0.2738\n",
      "Epoch 22/50\n",
      "51/51 [==============================] - 0s 2ms/step - loss: 0.2676 - val_loss: 0.2738\n",
      "Epoch 23/50\n",
      "51/51 [==============================] - 0s 2ms/step - loss: 0.2926 - val_loss: 0.2738\n",
      "Epoch 24/50\n",
      "51/51 [==============================] - 0s 2ms/step - loss: 0.2275 - val_loss: 0.2738\n",
      "Epoch 25/50\n",
      "51/51 [==============================] - 0s 2ms/step - loss: 0.1480 - val_loss: 0.2738\n",
      "Epoch 26/50\n",
      "51/51 [==============================] - 0s 2ms/step - loss: 0.2297 - val_loss: 0.2738\n",
      "Epoch 27/50\n",
      "51/51 [==============================] - 0s 2ms/step - loss: 0.1210 - val_loss: 0.2738\n",
      "Epoch 28/50\n",
      "51/51 [==============================] - 0s 2ms/step - loss: 0.1652 - val_loss: 0.2738\n",
      "Epoch 29/50\n",
      "51/51 [==============================] - 0s 2ms/step - loss: 0.2064 - val_loss: 0.2738\n",
      "Epoch 30/50\n",
      "51/51 [==============================] - 0s 2ms/step - loss: 0.1586 - val_loss: 0.2738\n",
      "Epoch 31/50\n",
      "51/51 [==============================] - 0s 2ms/step - loss: 0.2111 - val_loss: 0.2738\n",
      "Epoch 32/50\n",
      "51/51 [==============================] - 0s 2ms/step - loss: 0.1679 - val_loss: 0.2738\n",
      "Epoch 33/50\n",
      "51/51 [==============================] - 0s 2ms/step - loss: 0.2226 - val_loss: 0.2738\n",
      "Epoch 34/50\n",
      "51/51 [==============================] - 0s 2ms/step - loss: 0.1621 - val_loss: 0.2738\n",
      "Epoch 35/50\n",
      "51/51 [==============================] - 0s 2ms/step - loss: 0.1415 - val_loss: 0.2738\n",
      "Epoch 36/50\n",
      "51/51 [==============================] - 0s 2ms/step - loss: 0.1878 - val_loss: 0.2738\n",
      "Epoch 37/50\n",
      "51/51 [==============================] - 0s 2ms/step - loss: 0.1778 - val_loss: 0.2738\n",
      "Epoch 38/50\n",
      "51/51 [==============================] - 0s 2ms/step - loss: 0.1344 - val_loss: 0.2738\n",
      "Epoch 39/50\n",
      "51/51 [==============================] - 0s 2ms/step - loss: 0.1608 - val_loss: 0.2738\n",
      "Epoch 40/50\n",
      "51/51 [==============================] - 0s 2ms/step - loss: 0.3080 - val_loss: 0.2738\n",
      "Epoch 41/50\n",
      "51/51 [==============================] - 0s 2ms/step - loss: 0.1082 - val_loss: 0.2738\n",
      "Epoch 42/50\n",
      "51/51 [==============================] - 0s 2ms/step - loss: 0.1347 - val_loss: 0.2738\n",
      "Epoch 43/50\n",
      "51/51 [==============================] - 0s 2ms/step - loss: 0.2998 - val_loss: 0.2738\n",
      "Epoch 44/50\n",
      "51/51 [==============================] - 0s 2ms/step - loss: 0.2300 - val_loss: 0.2738\n",
      "Epoch 45/50\n",
      "51/51 [==============================] - 0s 2ms/step - loss: 0.1457 - val_loss: 0.2738\n",
      "Epoch 46/50\n",
      "51/51 [==============================] - 0s 2ms/step - loss: 0.2152 - val_loss: 0.2738\n",
      "Epoch 47/50\n",
      "51/51 [==============================] - 0s 2ms/step - loss: 0.1916 - val_loss: 0.2738\n",
      "Epoch 48/50\n",
      "51/51 [==============================] - 0s 2ms/step - loss: 0.1810 - val_loss: 0.2738\n",
      "Epoch 49/50\n",
      "51/51 [==============================] - 0s 2ms/step - loss: 0.1988 - val_loss: 0.2738\n",
      "Epoch 50/50\n",
      "51/51 [==============================] - 0s 2ms/step - loss: 0.1324 - val_loss: 0.2738\n"
     ]
    }
   ],
   "source": [
    "history_multi_class = nn_multi_class_model.fit(\n",
    "    x=X_train_multi_class,\n",
    "    y=y_train_multi_class_one_hot,\n",
    "    batch_size=batch_size,\n",
    "    epochs=n_epoch,\n",
    "    validation_data=(X_val_multi_class, y_val_multi_class_one_hot),\n",
    "    shuffle=True,\n",
    "    validation_batch_size=batch_size,\n",
    "    class_weight={0:1, 1:5, 2:1},\n",
    "    callbacks=[checkpoint, reduce_lr]\n",
    ")"
   ]
  },
  {
   "cell_type": "code",
   "execution_count": 69,
   "id": "bb0d8b55",
   "metadata": {
    "scrolled": true
   },
   "outputs": [],
   "source": [
    "train_multi_class_loss = history_multi_class.history['loss']\n",
    "# train_multi_class_loss"
   ]
  },
  {
   "cell_type": "code",
   "execution_count": 70,
   "id": "b71d5e15",
   "metadata": {},
   "outputs": [],
   "source": [
    "val_multi_class_loss = history_multi_class.history['val_loss']\n",
    "# val_multi_class_loss"
   ]
  },
  {
   "cell_type": "code",
   "execution_count": 71,
   "id": "d393ef25",
   "metadata": {},
   "outputs": [
    {
     "data": {
      "image/png": "[encoded data removed]",
      "text/plain": [
       "<Figure size 432x288 with 1 Axes>"
      ]
     },
     "metadata": {
      "needs_background": "light"
     },
     "output_type": "display_data"
    }
   ],
   "source": [
    "sns.lineplot(x=range(n_epoch), y=train_multi_class_loss)\n",
    "plt.title('Train loss')\n",
    "plt.show()"
   ]
  },
  {
   "cell_type": "code",
   "execution_count": 72,
   "id": "b355ec5e",
   "metadata": {},
   "outputs": [
    {
     "data": {
      "image/png": "[encoded data removed]",
      "text/plain": [
       "<Figure size 432x288 with 1 Axes>"
      ]
     },
     "metadata": {
      "needs_background": "light"
     },
     "output_type": "display_data"
    }
   ],
   "source": [
    "sns.lineplot(x=range(n_epoch), y=val_multi_class_loss)\n",
    "plt.title('Val loss')\n",
    "plt.show()"
   ]
  },
  {
   "cell_type": "code",
   "execution_count": 73,
   "id": "245f8898",
   "metadata": {
    "scrolled": true
   },
   "outputs": [
    {
     "data": {
      "text/plain": [
       "array([[8.30329731e-02, 4.58487988e-01, 4.58479017e-01],\n",
       "       [9.62109208e-01, 1.36589361e-02, 2.42318995e-02],\n",
       "       [1.91938188e-02, 3.26617584e-02, 9.48144376e-01],\n",
       "       [9.56759393e-01, 1.74124129e-02, 2.58281790e-02],\n",
       "       [2.46736407e-03, 9.49016423e-04, 9.96583581e-01],\n",
       "       [9.60189700e-01, 1.86092760e-02, 2.12010704e-02],\n",
       "       [2.18563929e-01, 2.79153697e-02, 7.53520668e-01],\n",
       "       [9.19453986e-03, 1.28438482e-02, 9.77961540e-01],\n",
       "       [9.58281040e-01, 2.02057231e-02, 2.15132236e-02],\n",
       "       [1.29886977e-02, 1.00799287e-02, 9.76931393e-01],\n",
       "       [4.59165080e-03, 1.51992459e-02, 9.80209112e-01],\n",
       "       [1.81063022e-02, 2.31985338e-02, 9.58695233e-01],\n",
       "       [4.17755812e-01, 8.03724974e-02, 5.01871645e-01],\n",
       "       [1.66754052e-02, 1.87975168e-02, 9.64527130e-01],\n",
       "       [9.71468568e-01, 1.16015635e-02, 1.69298388e-02],\n",
       "       [1.04614139e-01, 3.78791690e-01, 5.16594172e-01],\n",
       "       [5.37358560e-02, 6.76035462e-03, 9.39503849e-01],\n",
       "       [1.03314733e-02, 1.68663897e-02, 9.72802103e-01],\n",
       "       [2.14916393e-02, 3.42465495e-03, 9.75083709e-01],\n",
       "       [9.82099652e-01, 7.55732041e-03, 1.03429900e-02],\n",
       "       [9.63118732e-01, 1.56509504e-02, 2.12303139e-02],\n",
       "       [4.35311794e-02, 4.61096736e-03, 9.51857865e-01],\n",
       "       [9.57637310e-01, 1.61024928e-02, 2.62601394e-02],\n",
       "       [9.56053138e-01, 2.07142383e-02, 2.32326388e-02],\n",
       "       [1.78970285e-02, 2.73373374e-03, 9.79369223e-01],\n",
       "       [1.12942085e-01, 1.41745377e-02, 8.72883320e-01],\n",
       "       [1.26636684e-01, 2.91118249e-02, 8.44251513e-01],\n",
       "       [9.65286911e-01, 1.37498546e-02, 2.09631659e-02],\n",
       "       [5.88682815e-02, 7.83918425e-03, 9.33292568e-01],\n",
       "       [9.71016139e-02, 2.54454076e-01, 6.48444355e-01],\n",
       "       [9.20229912e-01, 3.51746790e-02, 4.45954017e-02],\n",
       "       [9.64160025e-01, 1.61674879e-02, 1.96724236e-02],\n",
       "       [7.21138120e-02, 1.28479823e-02, 9.15038168e-01],\n",
       "       [6.64507747e-02, 3.27960342e-01, 6.05588853e-01],\n",
       "       [8.48396346e-02, 5.08015871e-01, 4.07144457e-01],\n",
       "       [6.02956824e-02, 5.31114876e-01, 4.08589482e-01],\n",
       "       [9.29642558e-01, 3.17795984e-02, 3.85778770e-02],\n",
       "       [3.14372666e-02, 3.42425480e-02, 9.34320211e-01],\n",
       "       [9.66447175e-01, 9.70997568e-03, 2.38428675e-02],\n",
       "       [9.25198495e-01, 2.56303959e-02, 4.91711982e-02],\n",
       "       [6.04898669e-02, 3.20074677e-01, 6.19435430e-01],\n",
       "       [6.97822347e-02, 3.18300188e-01, 6.11917555e-01],\n",
       "       [2.58318130e-02, 2.25266106e-02, 9.51641560e-01],\n",
       "       [1.41800232e-02, 1.88111942e-02, 9.67008829e-01],\n",
       "       [9.49887753e-01, 1.74796414e-02, 3.26326564e-02],\n",
       "       [4.56405291e-03, 2.13031974e-02, 9.74132776e-01],\n",
       "       [9.82397974e-01, 7.90177286e-03, 9.70022939e-03],\n",
       "       [9.24482405e-01, 2.96780132e-02, 4.58395407e-02],\n",
       "       [9.70932901e-01, 1.17281722e-02, 1.73389334e-02],\n",
       "       [9.72246826e-02, 2.90803134e-01, 6.11972213e-01],\n",
       "       [9.91153419e-02, 9.09995567e-03, 8.91784668e-01],\n",
       "       [9.76817727e-01, 1.00238696e-02, 1.31583149e-02],\n",
       "       [9.70790565e-01, 1.00503694e-02, 1.91590898e-02],\n",
       "       [3.09454277e-02, 3.73341958e-03, 9.65321124e-01],\n",
       "       [5.01945853e-01, 7.16497302e-02, 4.26404417e-01],\n",
       "       [9.64819551e-01, 1.09644700e-02, 2.42160466e-02],\n",
       "       [9.32220638e-01, 3.10344547e-02, 3.67449671e-02],\n",
       "       [9.57762718e-01, 1.71048008e-02, 2.51325164e-02],\n",
       "       [9.41643775e-01, 2.62658522e-02, 3.20903808e-02],\n",
       "       [7.64833465e-02, 4.30285275e-01, 4.93231386e-01],\n",
       "       [8.40308983e-03, 1.96881723e-02, 9.71908689e-01],\n",
       "       [9.65395391e-01, 1.39493160e-02, 2.06553377e-02],\n",
       "       [9.58614707e-01, 2.03551408e-02, 2.10301783e-02],\n",
       "       [5.96671551e-02, 6.79025948e-01, 2.61306912e-01],\n",
       "       [1.24521917e-02, 1.70580801e-02, 9.70489681e-01],\n",
       "       [9.58325446e-01, 1.91191658e-02, 2.25553233e-02],\n",
       "       [9.74375129e-01, 1.02837747e-02, 1.53411506e-02],\n",
       "       [5.97031601e-03, 4.77374345e-03, 9.89255905e-01],\n",
       "       [1.10041331e-02, 2.14268956e-02, 9.67568934e-01],\n",
       "       [9.52813029e-01, 2.33004596e-02, 2.38865335e-02],\n",
       "       [9.60611165e-01, 1.76387448e-02, 2.17501074e-02],\n",
       "       [5.68988383e-01, 3.16210315e-02, 3.99390519e-01],\n",
       "       [6.39435928e-03, 3.38596152e-03, 9.90219653e-01],\n",
       "       [1.76581684e-02, 6.75805798e-03, 9.75583792e-01],\n",
       "       [9.78105366e-01, 8.81589018e-03, 1.30788498e-02],\n",
       "       [6.95458710e-01, 5.07404990e-02, 2.53800690e-01],\n",
       "       [1.78971980e-02, 1.85065996e-02, 9.63596225e-01],\n",
       "       [1.95489987e-03, 2.10626423e-03, 9.95938897e-01],\n",
       "       [8.57903995e-03, 1.85797215e-02, 9.72841263e-01],\n",
       "       [3.92467482e-03, 2.97769322e-03, 9.93097603e-01],\n",
       "       [9.28161144e-01, 3.31009068e-02, 3.87379229e-02],\n",
       "       [1.03625171e-02, 1.16728172e-02, 9.77964640e-01],\n",
       "       [2.22792942e-02, 2.08779946e-02, 9.56842661e-01],\n",
       "       [1.20339571e-02, 2.09273752e-02, 9.67038691e-01],\n",
       "       [1.66795969e-01, 3.79829913e-01, 4.53374118e-01],\n",
       "       [4.64825630e-02, 6.45164490e-01, 3.08352977e-01],\n",
       "       [5.26426286e-02, 6.64493620e-01, 2.82863736e-01],\n",
       "       [9.78112876e-01, 8.93795956e-03, 1.29491063e-02],\n",
       "       [9.70109999e-01, 1.16719287e-02, 1.82180405e-02],\n",
       "       [9.71510112e-01, 8.76858737e-03, 1.97213665e-02],\n",
       "       [2.22247541e-02, 1.84789747e-02, 9.59296227e-01],\n",
       "       [8.78603011e-03, 8.56520887e-03, 9.82648730e-01],\n",
       "       [9.86497179e-02, 4.33233470e-01, 4.68116909e-01],\n",
       "       [1.12968199e-01, 2.38551885e-01, 6.48479939e-01],\n",
       "       [9.59858775e-01, 1.27838198e-02, 2.73574721e-02],\n",
       "       [2.41949479e-03, 4.55685426e-03, 9.93023634e-01],\n",
       "       [1.27790384e-02, 1.54660959e-02, 9.71754909e-01],\n",
       "       [5.15138656e-02, 6.84817731e-01, 2.63668329e-01],\n",
       "       [5.35563603e-02, 4.97419760e-03, 9.41469491e-01],\n",
       "       [5.60505278e-02, 5.99844754e-01, 3.44104767e-01],\n",
       "       [9.72850621e-01, 1.01815071e-02, 1.69679169e-02]], dtype=float32)"
      ]
     },
     "execution_count": 73,
     "metadata": {},
     "output_type": "execute_result"
    }
   ],
   "source": [
    "y_pred_multi_class_proba = nn_multi_class_model.predict(X_val_multi_class)\n",
    "y_pred_multi_class_proba"
   ]
  },
  {
   "cell_type": "code",
   "execution_count": 74,
   "id": "ad3b90f3",
   "metadata": {},
   "outputs": [
    {
     "data": {
      "text/plain": [
       "array([1, 0, 2, 0, 2, 0, 2, 2, 0, 2, 2, 2, 2, 2, 0, 2, 2, 2, 2, 0, 0, 2,\n",
       "       0, 0, 2, 2, 2, 0, 2, 2, 0, 0, 2, 2, 1, 1, 0, 2, 0, 0, 2, 2, 2, 2,\n",
       "       0, 2, 0, 0, 0, 2, 2, 0, 0, 2, 0, 0, 0, 0, 0, 2, 2, 0, 0, 1, 2, 0,\n",
       "       0, 2, 2, 0, 0, 0, 2, 2, 0, 0, 2, 2, 2, 2, 0, 2, 2, 2, 2, 1, 1, 0,\n",
       "       0, 0, 2, 2, 2, 2, 0, 2, 2, 1, 2, 1, 0])"
      ]
     },
     "execution_count": 74,
     "metadata": {},
     "output_type": "execute_result"
    }
   ],
   "source": [
    "y_pred_multi_class = np.argmax(y_pred_multi_class_proba, axis=1)\n",
    "y_pred_multi_class"
   ]
  },
  {
   "cell_type": "code",
   "execution_count": 75,
   "id": "e8620d17",
   "metadata": {},
   "outputs": [
    {
     "data": {
      "text/plain": [
       "array([2, 0, 2, 0, 2, 0, 2, 2, 0, 2, 2, 2, 0, 2, 0, 2, 2, 2, 2, 0, 0, 2,\n",
       "       0, 0, 2, 2, 2, 0, 2, 2, 0, 0, 2, 2, 2, 2, 0, 2, 0, 0, 2, 2, 1, 2,\n",
       "       0, 2, 0, 0, 0, 2, 2, 0, 0, 2, 0, 0, 0, 0, 0, 2, 2, 0, 0, 2, 2, 0,\n",
       "       0, 2, 2, 0, 0, 0, 2, 2, 0, 0, 1, 2, 2, 2, 0, 2, 2, 2, 2, 2, 2, 0,\n",
       "       0, 0, 2, 2, 2, 2, 0, 2, 2, 2, 2, 1, 0])"
      ]
     },
     "execution_count": 75,
     "metadata": {},
     "output_type": "execute_result"
    }
   ],
   "source": [
    "y_val_multi_class"
   ]
  },
  {
   "cell_type": "code",
   "execution_count": 76,
   "id": "ef129b53",
   "metadata": {},
   "outputs": [
    {
     "name": "stdout",
     "output_type": "stream",
     "text": [
      "              precision    recall  f1-score   support\n",
      "\n",
      "           0       1.00      0.98      0.99        42\n",
      "           1       0.12      0.33      0.18         3\n",
      "           2       0.94      0.88      0.91        56\n",
      "\n",
      "    accuracy                           0.90       101\n",
      "   macro avg       0.69      0.73      0.69       101\n",
      "weighted avg       0.94      0.90      0.92       101\n",
      "\n"
     ]
    }
   ],
   "source": [
    "print(classification_report(y_val_multi_class, y_pred_multi_class))"
   ]
  },
  {
   "cell_type": "code",
   "execution_count": null,
   "id": "fae66bc3",
   "metadata": {},
   "outputs": [],
   "source": []
  }
 ],
 "metadata": {
  "kernelspec": {
   "display_name": "Python 3 (ipykernel)",
   "language": "python",
   "name": "python3"
  },
  "language_info": {
   "codemirror_mode": {
    "name": "ipython",
    "version": 3
   },
   "file_extension": ".py",
   "mimetype": "text/x-python",
   "name": "python",
   "nbconvert_exporter": "python",
   "pygments_lexer": "ipython3",
   "version": "3.8.13"
  }
 },
 "nbformat": 4,
 "nbformat_minor": 5
}
