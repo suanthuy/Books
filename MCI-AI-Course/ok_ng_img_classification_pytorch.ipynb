{
 "cells": [
  {
   "cell_type": "code",
   "execution_count": 1,
   "id": "8bc8a42d",
   "metadata": {},
   "outputs": [],
   "source": [
    "import cv2 # opencv\n",
    "import numpy as np\n",
    "import torch\n",
    "from torch import nn\n",
    "from torch.optim import SGD\n",
    "from torch.utils.data import Dataset, DataLoader\n",
    "import torchvision.transforms as T\n",
    "import albumentations as A\n",
    "from sklearn.metrics import classification_report\n",
    "\n",
    "from glob import glob\n",
    "import os"
   ]
  },
  {
   "cell_type": "markdown",
   "id": "5c3e2814",
   "metadata": {},
   "source": [
    "# 1. Dataloader"
   ]
  },
  {
   "cell_type": "code",
   "execution_count": 2,
   "id": "422cedb2",
   "metadata": {},
   "outputs": [],
   "source": [
    "class OKNGDataset(Dataset):\n",
    "    def __init__(\n",
    "        self,\n",
    "        ok_img_path,\n",
    "        ng_img_path,\n",
    "        train_val_split_ratio,\n",
    "        img_size,\n",
    "        mode\n",
    "    ):\n",
    "        super().__init__()\n",
    "        ok_img_path_list = sorted(glob(os.path.join(ok_img_path, '*')))\n",
    "        ng_img_path_list = sorted(glob(os.path.join(ng_img_path, '*')))\n",
    "        \n",
    "        if mode == 'train':\n",
    "            ok_img_path_list = ok_img_path_list[\n",
    "                :int(train_val_split_ratio * len(ok_img_path_list))\n",
    "            ]\n",
    "            ng_img_path_list = ng_img_path_list[\n",
    "                :int(train_val_split_ratio * len(ng_img_path_list))\n",
    "            ]\n",
    "        elif mode == 'val':\n",
    "            ok_img_path_list = ok_img_path_list[\n",
    "                int(train_val_split_ratio * len(ok_img_path_list)):\n",
    "            ]\n",
    "            ng_img_path_list = ng_img_path_list[\n",
    "                int(train_val_split_ratio * len(ng_img_path_list)):\n",
    "            ]\n",
    "        else:\n",
    "            raise\n",
    "\n",
    "        ok_label_list = [0] * len(ok_img_path_list)\n",
    "        ng_label_list = [1] * len(ng_img_path_list)\n",
    "\n",
    "        self.img_list = ok_img_path_list + ng_img_path_list\n",
    "        self.label_list = ok_label_list + ng_label_list\n",
    "        \n",
    "        self.tensor_transform = T.Compose([\n",
    "            T.ToTensor(),\n",
    "            T.Normalize((0.485, 0.456, 0.406), (0.229, 0.224, 0.225)),\n",
    "        ])\n",
    "        self.resize_transform = A.Resize(img_size, img_size)\n",
    "        self.augmentation_transform = A.Compose([\n",
    "            A.RandomRotate90(),\n",
    "            A.HorizontalFlip(),\n",
    "            A.VerticalFlip(),\n",
    "            A.RandomBrightnessContrast(p=0.5),\n",
    "        ])\n",
    "        self.mode = mode\n",
    "\n",
    "    def __len__(self):\n",
    "        return len(self.img_list)\n",
    "\n",
    "    def __getitem__(self, index):\n",
    "#         print(self.img_list[index])\n",
    "        img = cv2.imread(self.img_list[index])\n",
    "        img = cv2.cvtColor(img, cv2.COLOR_BGR2RGB)\n",
    "\n",
    "        img = self.resize_transform(image=img)['image']\n",
    "        if self.mode == 'train':\n",
    "            img = self.augmentation_transform(image=img)['image']\n",
    "        img = self.tensor_transform(img)\n",
    "        \n",
    "        label = self.label_list[index]\n",
    "        return img, label"
   ]
  },
  {
   "cell_type": "code",
   "execution_count": 3,
   "id": "d39d9f66",
   "metadata": {},
   "outputs": [
    {
     "data": {
      "text/plain": [
       "1676"
      ]
     },
     "execution_count": 3,
     "metadata": {},
     "output_type": "execute_result"
    }
   ],
   "source": [
    "train_dataset = OKNGDataset(\n",
    "    ok_img_path='data/ok_img/',\n",
    "    ng_img_path='data/ng_img/',\n",
    "    train_val_split_ratio=0.8,\n",
    "    img_size=256,\n",
    "    mode='train'\n",
    ")\n",
    "len(train_dataset)"
   ]
  },
  {
   "cell_type": "code",
   "execution_count": 4,
   "id": "d6352e8d",
   "metadata": {},
   "outputs": [
    {
     "data": {
      "text/plain": [
       "(tensor([[[-0.9877, -0.2342, -0.8335,  ...,  0.4679,  0.3481, -1.5357],\n",
       "          [-1.2103, -0.6109, -1.2103,  ..., -0.5424, -1.2959, -0.1314],\n",
       "          [-0.5767, -0.8507,  0.1083,  ...,  1.4269, -0.4054, -0.9705],\n",
       "          ...,\n",
       "          [-1.5528, -0.0287,  0.2282,  ..., -0.3883, -1.6727, -1.7925],\n",
       "          [-1.5699, -0.2171, -0.4739,  ...,  0.5364, -1.2274, -1.8439],\n",
       "          [-1.7412,  0.0569, -1.3815,  ..., -0.9534, -1.4158, -1.7240]],\n",
       " \n",
       "         [[-0.8803, -0.1099, -0.7227,  ...,  0.6078,  0.4853, -1.4405],\n",
       "          [-1.1078, -0.4951, -1.1078,  ..., -0.4251, -1.1954, -0.0049],\n",
       "          [-0.4601, -0.7402,  0.2402,  ...,  1.5882, -0.2850, -0.8627],\n",
       "          ...,\n",
       "          [-1.4580,  0.1001,  0.3627,  ..., -0.2675, -1.5805, -1.7031],\n",
       "          [-1.4755, -0.0924, -0.3550,  ...,  0.6779, -1.1253, -1.7556],\n",
       "          [-1.6506,  0.1877, -1.2829,  ..., -0.8452, -1.3179, -1.6331]],\n",
       " \n",
       "         [[-0.6541,  0.1128, -0.4973,  ...,  0.8274,  0.7054, -1.2119],\n",
       "          [-0.8807, -0.2707, -0.8807,  ..., -0.2010, -0.9678,  0.2173],\n",
       "          [-0.2358, -0.5147,  0.4614,  ...,  1.8034, -0.0615, -0.6367],\n",
       "          ...,\n",
       "          [-1.2293,  0.3219,  0.5834,  ..., -0.0441, -1.3513, -1.4733],\n",
       "          [-1.2467,  0.1302, -0.1312,  ...,  0.8971, -0.8981, -1.5256],\n",
       "          [-1.4210,  0.4091, -1.0550,  ..., -0.6193, -1.0898, -1.4036]]]),\n",
       " 0)"
      ]
     },
     "execution_count": 4,
     "metadata": {},
     "output_type": "execute_result"
    }
   ],
   "source": [
    "train_dataset[0]"
   ]
  },
  {
   "cell_type": "code",
   "execution_count": 5,
   "id": "1f880c7d",
   "metadata": {},
   "outputs": [
    {
     "data": {
      "text/plain": [
       "420"
      ]
     },
     "execution_count": 5,
     "metadata": {},
     "output_type": "execute_result"
    }
   ],
   "source": [
    "val_dataset = OKNGDataset(\n",
    "    ok_img_path='data/ok_img/',\n",
    "    ng_img_path='data/ng_img/',\n",
    "    train_val_split_ratio=0.8,\n",
    "    img_size=256,\n",
    "    mode='val'\n",
    ")\n",
    "len(val_dataset)"
   ]
  },
  {
   "cell_type": "code",
   "execution_count": 6,
   "id": "660f8b91",
   "metadata": {},
   "outputs": [
    {
     "data": {
      "text/plain": [
       "(tensor([[[-2.0323,  0.3652, -1.6384,  ..., -1.5357, -1.3130, -1.9980],\n",
       "          [-1.7925, -1.2103, -0.0458,  ..., -0.8335, -1.2788, -1.4672],\n",
       "          [-0.5767,  1.4269,  0.0056,  ...,  0.8447,  1.5639, -1.4329],\n",
       "          ...,\n",
       "          [ 0.0398,  1.8550,  1.4954,  ...,  1.1529, -1.4158, -1.7240],\n",
       "          [-0.5253,  0.6734, -0.1314,  ...,  0.6734, -1.8782, -1.1589],\n",
       "          [-0.4054,  0.6734,  0.5536,  ...,  1.4783, -1.6727, -2.0494]],\n",
       " \n",
       "         [[-1.9482,  0.5028, -1.5455,  ..., -1.4405, -1.2129, -1.9132],\n",
       "          [-1.7031, -1.1078,  0.0826,  ..., -0.7227, -1.1779, -1.3704],\n",
       "          [-0.4601,  1.5882,  0.1352,  ...,  0.9930,  1.7283, -1.3354],\n",
       "          ...,\n",
       "          [ 0.1702,  2.0259,  1.6583,  ...,  1.3081, -1.3179, -1.6331],\n",
       "          [-0.4076,  0.8179, -0.0049,  ...,  0.8179, -1.7906, -1.0553],\n",
       "          [-0.2850,  0.8179,  0.6954,  ...,  1.6408, -1.5805, -1.9657]],\n",
       " \n",
       "         [[-1.7173,  0.7228, -1.3164,  ..., -1.2119, -0.9853, -1.6824],\n",
       "          [-1.4733, -0.8807,  0.3045,  ..., -0.4973, -0.9504, -1.1421],\n",
       "          [-0.2358,  1.8034,  0.3568,  ...,  1.2108,  1.9428, -1.1073],\n",
       "          ...,\n",
       "          [ 0.3916,  2.2391,  1.8731,  ...,  1.5245, -1.0898, -1.4036],\n",
       "          [-0.1835,  1.0365,  0.2173,  ...,  1.0365, -1.5604, -0.8284],\n",
       "          [-0.0615,  1.0365,  0.9145,  ...,  1.8557, -1.3513, -1.7347]]]),\n",
       " 0)"
      ]
     },
     "execution_count": 6,
     "metadata": {},
     "output_type": "execute_result"
    }
   ],
   "source": [
    "val_dataset[0]"
   ]
  },
  {
   "cell_type": "code",
   "execution_count": 7,
   "id": "e515d464",
   "metadata": {},
   "outputs": [],
   "source": [
    "train_loader = DataLoader(train_dataset, batch_size=2, shuffle=True, num_workers=0)\n",
    "val_loader = DataLoader(val_dataset, batch_size=2, num_workers=0)"
   ]
  },
  {
   "cell_type": "code",
   "execution_count": 8,
   "id": "9d79c922",
   "metadata": {
    "scrolled": true
   },
   "outputs": [
    {
     "name": "stdout",
     "output_type": "stream",
     "text": [
      "tensor([[[[-1.4672, -0.5938, -0.5253,  ...,  0.1597, -1.4500, -2.0494],\n",
      "          [-1.5870, -1.3987,  0.3994,  ..., -0.1314, -0.2856, -2.1179],\n",
      "          [-1.2445,  0.0741,  0.7248,  ...,  0.7248, -0.0458, -2.1179],\n",
      "          ...,\n",
      "          [-2.1179, -0.0287, -0.4054,  ..., -1.2788, -1.6555, -1.7925],\n",
      "          [-2.1179, -0.5767, -1.3130,  ..., -1.0048, -1.7583, -2.1179],\n",
      "          [-2.1179, -1.7925, -1.0219,  ..., -0.2856, -2.1179, -2.1179]],\n",
      "\n",
      "         [[-1.3704, -0.4776, -0.4076,  ...,  0.2927, -1.3529, -1.9657],\n",
      "          [-1.4930, -1.3004,  0.5378,  ..., -0.0049, -0.1625, -2.0357],\n",
      "          [-1.1429,  0.2052,  0.8704,  ...,  0.8704,  0.0826, -2.0357],\n",
      "          ...,\n",
      "          [-2.0357,  0.1001, -0.2850,  ..., -1.1779, -1.5630, -1.7031],\n",
      "          [-2.0357, -0.4601, -1.2129,  ..., -0.8978, -1.6681, -2.0357],\n",
      "          [-2.0357, -1.7031, -0.9153,  ..., -0.1625, -2.0357, -2.0357]],\n",
      "\n",
      "         [[-1.1421, -0.2532, -0.1835,  ...,  0.5136, -1.1247, -1.7347],\n",
      "          [-1.2641, -1.0724,  0.7576,  ...,  0.2173,  0.0605, -1.8044],\n",
      "          [-0.9156,  0.4265,  1.0888,  ...,  1.0888,  0.3045, -1.8044],\n",
      "          ...,\n",
      "          [-1.8044,  0.3219, -0.0615,  ..., -0.9504, -1.3339, -1.4733],\n",
      "          [-1.8044, -0.2358, -0.9853,  ..., -0.6715, -1.4384, -1.8044],\n",
      "          [-1.8044, -1.4733, -0.6890,  ...,  0.0605, -1.8044, -1.8044]]],\n",
      "\n",
      "\n",
      "        [[[-1.2788, -0.4911,  0.1426,  ..., -0.4739, -1.9467, -2.1179],\n",
      "          [-1.6727, -1.3473,  0.1597,  ..., -1.2617, -1.9809, -1.1589],\n",
      "          [-0.8164, -0.1143, -0.5253,  ...,  0.7933, -0.7993, -0.7479],\n",
      "          ...,\n",
      "          [-1.5185, -0.1314, -0.5767,  ..., -0.5253, -0.9534, -1.7069],\n",
      "          [-1.2617, -0.7137, -1.7412,  ..., -1.0904,  0.8104, -1.7754],\n",
      "          [-0.3712, -1.4672, -0.8335,  ..., -1.3473, -1.6727, -1.9295]],\n",
      "\n",
      "         [[-1.1779, -0.3725,  0.2752,  ..., -0.3550, -1.8606, -2.0357],\n",
      "          [-1.5805, -1.2479,  0.2927,  ..., -1.1604, -1.8957, -1.0553],\n",
      "          [-0.7052,  0.0126, -0.4076,  ...,  0.9405, -0.6877, -0.6352],\n",
      "          ...,\n",
      "          [-1.4230, -0.0049, -0.4601,  ..., -0.4076, -0.8452, -1.6155],\n",
      "          [-1.1604, -0.6001, -1.6506,  ..., -0.9853,  0.9580, -1.6856],\n",
      "          [-0.2500, -1.3704, -0.7227,  ..., -1.2479, -1.5805, -1.8431]],\n",
      "\n",
      "         [[-0.9504, -0.1487,  0.4962,  ..., -0.1312, -1.6302, -1.8044],\n",
      "          [-1.3513, -1.0201,  0.5136,  ..., -0.9330, -1.6650, -0.8284],\n",
      "          [-0.4798,  0.2348, -0.1835,  ...,  1.1585, -0.4624, -0.4101],\n",
      "          ...,\n",
      "          [-1.1944,  0.2173, -0.2358,  ..., -0.1835, -0.6193, -1.3861],\n",
      "          [-0.9330, -0.3753, -1.4210,  ..., -0.7587,  1.1759, -1.4559],\n",
      "          [-0.0267, -1.1421, -0.4973,  ..., -1.0201, -1.3513, -1.6127]]]]) torch.Size([2, 3, 256, 256])\n",
      "tensor([1, 1]) torch.Size([2])\n"
     ]
    }
   ],
   "source": [
    "for data, label in train_loader:\n",
    "    print(data, data.shape)\n",
    "    print(label, label.shape)\n",
    "    break"
   ]
  },
  {
   "cell_type": "markdown",
   "id": "d1aee654",
   "metadata": {},
   "source": [
    "# 2. Model"
   ]
  },
  {
   "cell_type": "code",
   "execution_count": 9,
   "id": "117d0f7d",
   "metadata": {},
   "outputs": [],
   "source": [
    "#     Conv2D(filters=8, kernel_size=3, activation='relu', padding='same', input_shape=(IMAGE_SIZE, IMAGE_SIZE, 3)),\n",
    "#     Conv2D(filters=8, kernel_size=3, activation='relu', padding='same'),\n",
    "#     BatchNormalization(),\n",
    "#     MaxPooling2D(pool_size=2, strides=2),\n",
    "\n",
    "#     Conv2D(filters=16, kernel_size=3, activation='relu', padding='same'),\n",
    "#     Conv2D(filters=16, kernel_size=3, activation='relu', padding='same'),\n",
    "#     BatchNormalization(),\n",
    "#     MaxPooling2D(pool_size=2, strides=2),\n",
    "\n",
    "#     Conv2D(filters=32, kernel_size=3, activation='relu', padding='same'),\n",
    "#     Conv2D(filters=32, kernel_size=3, activation='relu', padding='same'),\n",
    "#     BatchNormalization(),\n",
    "#     MaxPooling2D(pool_size=2, strides=2),\n",
    "\n",
    "#     Conv2D(filters=64, kernel_size=3, activation='relu', padding='same'),\n",
    "#     Conv2D(filters=64, kernel_size=3, activation='relu', padding='same'),\n",
    "#     BatchNormalization(),\n",
    "#     MaxPooling2D(pool_size=2, strides=2),\n",
    "\n",
    "#     Conv2D(filters=128, kernel_size=3, activation='relu', padding='same'),\n",
    "#     Conv2D(filters=128, kernel_size=3, activation='relu', padding='same'),\n",
    "#     BatchNormalization(),\n",
    "#     MaxPooling2D(pool_size=2, strides=2),\n",
    "\n",
    "#     Flatten(),\n",
    "#     Dense(units=256, activation='relu'),\n",
    "#     Dropout(rate=0.3),\n",
    "#     Dense(units=1, activation='sigmoid')"
   ]
  },
  {
   "cell_type": "code",
   "execution_count": 10,
   "id": "606e85d2",
   "metadata": {},
   "outputs": [],
   "source": [
    "class ClassificationModel(nn.Module):\n",
    "    def __init__(self):\n",
    "        super().__init__()\n",
    "        self.conv_1_1 = nn.Conv2d(3, 8, 3)\n",
    "        self.relu_1_1 = nn.ReLU()\n",
    "        self.conv_1_2 = nn.Conv2d(8, 8, 3)\n",
    "        self.relu_1_2 = nn.ReLU()\n",
    "        self.bn = nn.BatchNorm2d(8)\n",
    "        self.max_pool_1 = nn.MaxPool2d(2, 2)\n",
    "        \n",
    "        self.flatten = nn.Flatten()\n",
    "        self.linear_1 = nn.Linear(127008, 256)\n",
    "        self.drop_out = nn.Dropout(0.3)\n",
    "        self.linear_2 = nn.Linear(256, 1)\n",
    "        self.sigmoid = nn.Sigmoid()\n",
    "\n",
    "    def forward(self, x):\n",
    "        x = self.conv_1_1(x)\n",
    "        x = self.relu_1_1(x)\n",
    "        x = self.conv_1_2(x)\n",
    "        x = self.relu_1_2(x)\n",
    "        x = self.bn(x)\n",
    "        x = self.max_pool_1(x)\n",
    "\n",
    "        x = self.flatten(x)\n",
    "        x = self.linear_1(x)\n",
    "        x = self.drop_out(x)\n",
    "        x = self.linear_2(x)\n",
    "        x = self.sigmoid(x)\n",
    "\n",
    "        return x"
   ]
  },
  {
   "cell_type": "code",
   "execution_count": 11,
   "id": "909c8cfc",
   "metadata": {},
   "outputs": [],
   "source": [
    "model = ClassificationModel()"
   ]
  },
  {
   "cell_type": "code",
   "execution_count": 12,
   "id": "6abb4cb0",
   "metadata": {},
   "outputs": [
    {
     "name": "stdout",
     "output_type": "stream",
     "text": [
      "tensor([[0.6622],\n",
      "        [0.6335]], grad_fn=<SigmoidBackward0>)\n"
     ]
    }
   ],
   "source": [
    "for data, label in train_loader:\n",
    "    print(model(data))\n",
    "    break"
   ]
  },
  {
   "cell_type": "markdown",
   "id": "33f71031",
   "metadata": {},
   "source": [
    "# 3. Training pipeline"
   ]
  },
  {
   "cell_type": "code",
   "execution_count": 13,
   "id": "dbfbeb29",
   "metadata": {},
   "outputs": [],
   "source": [
    "loss_func = nn.BCELoss()"
   ]
  },
  {
   "cell_type": "code",
   "execution_count": 14,
   "id": "b790e80e",
   "metadata": {},
   "outputs": [],
   "source": [
    "optimizer = SGD(params=model.parameters(), lr=0.001)"
   ]
  },
  {
   "cell_type": "code",
   "execution_count": 15,
   "id": "9f5978f7",
   "metadata": {
    "scrolled": true
   },
   "outputs": [
    {
     "name": "stdout",
     "output_type": "stream",
     "text": [
      "tensor(0.4965, grad_fn=<BinaryCrossEntropyBackward0>)\n"
     ]
    }
   ],
   "source": [
    "# TRAINING\n",
    "for data, label in train_loader:\n",
    "    \n",
    "    # Switch model into training mode\n",
    "    model.train()\n",
    "\n",
    "    # Free all gradient in model\n",
    "    # gradient = 0\n",
    "    optimizer.zero_grad()\n",
    "\n",
    "    # Forward model\n",
    "    prediction = model(data)\n",
    "\n",
    "    # Calculate loss\n",
    "    loss_value = loss_func(prediction, label.unsqueeze(1).float())\n",
    "    print(loss_value)\n",
    "\n",
    "    # Backward\n",
    "    # gradient != 0\n",
    "    loss_value.backward()\n",
    "    \n",
    "    # Optimize - Update weights\n",
    "    optimizer.step()\n",
    "    \n",
    "    break"
   ]
  },
  {
   "cell_type": "code",
   "execution_count": 16,
   "id": "9a80afad",
   "metadata": {
    "scrolled": false
   },
   "outputs": [
    {
     "name": "stdout",
     "output_type": "stream",
     "text": [
      "tensor(2.4294)\n"
     ]
    }
   ],
   "source": [
    "# VALIDATION\n",
    "\n",
    "prediction_list, label_list = [], []\n",
    "with torch.no_grad():\n",
    "    for data, label in val_loader:\n",
    "        # Switch model into evaluation mode\n",
    "        model.eval()\n",
    "\n",
    "        # Forward model\n",
    "        prediction = model(data)\n",
    "        \n",
    "        # Calculate loss\n",
    "        loss_value = loss_func(prediction, label.unsqueeze(1).float())\n",
    "        print(loss_value)\n",
    "        \n",
    "        # Prepare predictions and labels for metric\n",
    "        prediction_np = prediction.numpy()\n",
    "        prediction_np[prediction_np >= 0.5] = 1\n",
    "        prediction_np[prediction_np < 0.5] = 0\n",
    "\n",
    "        prediction_list.append(prediction_np)\n",
    "        label_list.append(label.numpy())\n",
    "        \n",
    "        break"
   ]
  },
  {
   "cell_type": "code",
   "execution_count": 17,
   "id": "8eda5acf",
   "metadata": {},
   "outputs": [
    {
     "data": {
      "text/plain": [
       "(2, 1)"
      ]
     },
     "execution_count": 17,
     "metadata": {},
     "output_type": "execute_result"
    }
   ],
   "source": [
    "# Calculate metric\n",
    "\n",
    "all_prediction = np.concatenate(prediction_list)\n",
    "all_prediction.shape"
   ]
  },
  {
   "cell_type": "code",
   "execution_count": 18,
   "id": "8ece9fcf",
   "metadata": {},
   "outputs": [
    {
     "data": {
      "text/plain": [
       "(2,)"
      ]
     },
     "execution_count": 18,
     "metadata": {},
     "output_type": "execute_result"
    }
   ],
   "source": [
    "all_label = np.concatenate(label_list)\n",
    "all_label.shape"
   ]
  },
  {
   "cell_type": "code",
   "execution_count": 19,
   "id": "7bd45de6",
   "metadata": {},
   "outputs": [
    {
     "name": "stdout",
     "output_type": "stream",
     "text": [
      "              precision    recall  f1-score   support\n",
      "\n",
      "         0.0       0.00      0.00      0.00       0.0\n",
      "         1.0       0.00      0.00      0.00       2.0\n",
      "\n",
      "    accuracy                           0.00       2.0\n",
      "   macro avg       0.00      0.00      0.00       2.0\n",
      "weighted avg       0.00      0.00      0.00       2.0\n",
      "\n"
     ]
    },
    {
     "name": "stderr",
     "output_type": "stream",
     "text": [
      "/Users/minhnguyenhuu/miniconda3/envs/work_env/lib/python3.8/site-packages/sklearn/metrics/_classification.py:1318: UndefinedMetricWarning: Precision and F-score are ill-defined and being set to 0.0 in labels with no predicted samples. Use `zero_division` parameter to control this behavior.\n",
      "  _warn_prf(average, modifier, msg_start, len(result))\n",
      "/Users/minhnguyenhuu/miniconda3/envs/work_env/lib/python3.8/site-packages/sklearn/metrics/_classification.py:1318: UndefinedMetricWarning: Recall and F-score are ill-defined and being set to 0.0 in labels with no true samples. Use `zero_division` parameter to control this behavior.\n",
      "  _warn_prf(average, modifier, msg_start, len(result))\n",
      "/Users/minhnguyenhuu/miniconda3/envs/work_env/lib/python3.8/site-packages/sklearn/metrics/_classification.py:1318: UndefinedMetricWarning: Precision and F-score are ill-defined and being set to 0.0 in labels with no predicted samples. Use `zero_division` parameter to control this behavior.\n",
      "  _warn_prf(average, modifier, msg_start, len(result))\n",
      "/Users/minhnguyenhuu/miniconda3/envs/work_env/lib/python3.8/site-packages/sklearn/metrics/_classification.py:1318: UndefinedMetricWarning: Recall and F-score are ill-defined and being set to 0.0 in labels with no true samples. Use `zero_division` parameter to control this behavior.\n",
      "  _warn_prf(average, modifier, msg_start, len(result))\n",
      "/Users/minhnguyenhuu/miniconda3/envs/work_env/lib/python3.8/site-packages/sklearn/metrics/_classification.py:1318: UndefinedMetricWarning: Precision and F-score are ill-defined and being set to 0.0 in labels with no predicted samples. Use `zero_division` parameter to control this behavior.\n",
      "  _warn_prf(average, modifier, msg_start, len(result))\n",
      "/Users/minhnguyenhuu/miniconda3/envs/work_env/lib/python3.8/site-packages/sklearn/metrics/_classification.py:1318: UndefinedMetricWarning: Recall and F-score are ill-defined and being set to 0.0 in labels with no true samples. Use `zero_division` parameter to control this behavior.\n",
      "  _warn_prf(average, modifier, msg_start, len(result))\n"
     ]
    }
   ],
   "source": [
    "print(classification_report(all_prediction, all_label))"
   ]
  },
  {
   "cell_type": "code",
   "execution_count": null,
   "id": "d19fad81",
   "metadata": {},
   "outputs": [],
   "source": []
  }
 ],
 "metadata": {
  "kernelspec": {
   "display_name": "Python 3 (ipykernel)",
   "language": "python",
   "name": "python3"
  },
  "language_info": {
   "codemirror_mode": {
    "name": "ipython",
    "version": 3
   },
   "file_extension": ".py",
   "mimetype": "text/x-python",
   "name": "python",
   "nbconvert_exporter": "python",
   "pygments_lexer": "ipython3",
   "version": "3.8.13"
  }
 },
 "nbformat": 4,
 "nbformat_minor": 5
}
